{
 "cells": [
  {
   "cell_type": "markdown",
   "id": "b59442b1-5aae-4fa2-81ab-ba56d4dcbf1a",
   "metadata": {},
   "source": [
    "# No. 1 Recursion problem"
   ]
  },
  {
   "cell_type": "code",
   "execution_count": 31,
   "id": "6004282c-b381-4db6-8add-2fa75737bcab",
   "metadata": {},
   "outputs": [],
   "source": [
    "n, m = (3, 1000)\n",
    "lists = [[5, 4], [7, 8, 9], [5, 7, 8, 9, 10]]\n",
    "\n",
    "\n",
    "# Define a function to recursively generate all combinations\n",
    "collect  = []\n",
    "def generate_combinations(index, current_value):\n",
    "    # Base case: if all lists have been processed\n",
    "    if index == n:\n",
    "        collect.append(current_value)\n",
    "        return\n",
    "    \n",
    "    # Iterate through all elements in the current list\n",
    "    for num in lists[index]:\n",
    "        # Recur with the next list and updated current value\n",
    "        generate_combinations(index + 1, current_value + num ** 2)\n",
    "\n",
    "# Initialize maximum value\n",
    "max_value = [0]\n",
    "\n",
    "# Start generating combinations from the first list\n",
    "generate_combinations(0, 0)"
   ]
  },
  {
   "cell_type": "code",
   "execution_count": 4,
   "id": "d6f9bc8e-28a8-4776-a777-5e89ae242728",
   "metadata": {},
   "outputs": [],
   "source": [
    "# pattern = r'^[a-zA-Z0-9_-]+@[a-zA-Z0-9]+\\.[a-zA-Z]{1,3}$'\n",
    "#     return re.match(pattern, s) is not None"
   ]
  },
  {
   "cell_type": "markdown",
   "id": "5db00ff3-729b-47fb-9a4c-e95c58fffbd1",
   "metadata": {},
   "source": [
    "# No. 2 Recursion problem"
   ]
  },
  {
   "cell_type": "code",
   "execution_count": 32,
   "id": "2e49aa68-41b4-42bc-8095-ea1a6161ae55",
   "metadata": {},
   "outputs": [],
   "source": [
    "def generate_combinations(elements, k):\n",
    "    def backtrack(start, combination):\n",
    "        if len(combination) == k:\n",
    "            result.append(combination[:])\n",
    "            return\n",
    "        for i in range(start, len(elements)):\n",
    "            combination.append(elements[i])\n",
    "            backtrack(i + 1, combination)\n",
    "            combination.pop()\n",
    "\n",
    "    result = []\n",
    "    backtrack(0, [])\n",
    "    return result"
   ]
  },
  {
   "cell_type": "code",
   "execution_count": 33,
   "id": "dcb051e3-9593-4b21-b7a1-ff8d2c136063",
   "metadata": {},
   "outputs": [
    {
     "data": {
      "text/plain": [
       "[[4, 2, 7],\n",
       " [4, 2, 1],\n",
       " [4, 2, 3],\n",
       " [4, 2, 6],\n",
       " [4, 2, 9],\n",
       " [4, 2, 5],\n",
       " [4, 7, 1],\n",
       " [4, 7, 3]]"
      ]
     },
     "execution_count": 33,
     "metadata": {},
     "output_type": "execute_result"
    }
   ],
   "source": [
    "def combination(elements , k):\n",
    "    def back_track(start , combine):\n",
    "        if len(combine) == k:\n",
    "            result.append(combine[:])\n",
    "            return\n",
    "        for i in range(start , len(elements)):\n",
    "            combine.append(elements[i])\n",
    "            back_track(i+1 , combine)\n",
    "            combine.pop()\n",
    "    result = []\n",
    "    back_track(0 , [])\n",
    "    return result\n",
    "    \n",
    "elements = [4, 2, 7 , 1 , 3, 6 , 9 , 5]\n",
    "result = combination(elements, 3)\n",
    "result[:8]            \n",
    "            \n",
    "        \n",
    "        "
   ]
  },
  {
   "cell_type": "code",
   "execution_count": 20,
   "id": "61fb4a02-a738-4dd5-bd0f-dd1ea2200867",
   "metadata": {},
   "outputs": [
    {
     "name": "stdout",
     "output_type": "stream",
     "text": [
      " the combination is [[4, 2, 7], [1, 6, 5], [3, 9]] and max diff is 1\n"
     ]
    }
   ],
   "source": [
    "elements = [4, 2, 7 , 1 , 3, 6 , 9 , 5]\n",
    "k = 3\n",
    "if len(elements) // k :\n",
    "    result = generate_combinations(elements,  (len(elements) - (len(elements) % k)) / (k - (1 if len(elements) % k else 0)) )\n",
    "    l1 = [i for i in range(0 , len(result))]\n",
    "    result2 = generate_combinations(l1, k - (1 if len(elements) % k else 0))\n",
    "\n",
    "    three_comb = []\n",
    "    extend_ele_com = []\n",
    "    for a in result2:\n",
    "        dummy = []\n",
    "        extend_ele = []\n",
    "        count = 0\n",
    "        for l in a:\n",
    "            if set(extend_ele).intersection(result[l]) :\n",
    "                count += 1\n",
    "                break\n",
    "            else:\n",
    "                dummy.append(result[l])\n",
    "                extend_ele.extend(result[l])\n",
    "        if count == 0:\n",
    "            three_comb.append(dummy)\n",
    "            extend_ele_com.append(extend_ele)\n",
    "\n",
    "\n",
    "if len(elements) % k  == 0:\n",
    "    max_diff = len(elements)\n",
    "    index = 0\n",
    "    for i , x in enumerate(three_comb):\n",
    "        diff = []\n",
    "        for y in x:\n",
    "            diff.append(sum(y))\n",
    "        if  (max(diff) - min(diff)) < max_diff :\n",
    "            max_diff = (max(diff) - min(diff))\n",
    "            index = i\n",
    "\n",
    "    print(f' the combination is {three_comb[index]} and max diff is {max_diff}')\n",
    "\n",
    "else:\n",
    "\n",
    "    two_combine = generate_combinations(elements, len(elements) % k)\n",
    "    \n",
    "    final_com = []\n",
    "    for i , j in enumerate(extend_ele_com):\n",
    "        for m in two_combine:\n",
    "            if set(j).intersection(set(m)) :\n",
    "                pass\n",
    "            else:\n",
    "                final_com.append(three_comb[i] + [m])\n",
    "\n",
    "    max_diff = len(elements)\n",
    "    index = 0\n",
    "    for i , x in enumerate(final_com):\n",
    "        diff = []\n",
    "    \n",
    "        for y in x:\n",
    "            diff.append(sum(y))\n",
    "        if  (max(diff) - min(diff)) < max_diff :\n",
    "            max_diff = (max(diff) - min(diff))\n",
    "            index = i\n",
    "\n",
    "    print(f' the combination is {final_com[index]} and max diff is {max_diff}')\n",
    "\n"
   ]
  },
  {
   "cell_type": "markdown",
   "id": "ea81e5e7-9fab-4eb3-890d-a56d7940cc45",
   "metadata": {},
   "source": [
    "# No. 3 Recursion problem\n",
    "\n",
    "You're given a nested list of integers. Write a recursive function to find the maximum depth of nesting in the list.\n",
    "\n",
    "For example, given the list [1, [2, [3, 4], 5], 6, [7, 8]], the maximum depth of nesting is 3.\n",
    "\n",
    "Write a Python function to solve this problem recursively. You can assume that the input is always a nested list of integers."
   ]
  },
  {
   "cell_type": "code",
   "execution_count": 34,
   "id": "95098c6d-20df-4c14-8852-516700e6a9de",
   "metadata": {},
   "outputs": [
    {
     "name": "stdout",
     "output_type": "stream",
     "text": [
      "4\n"
     ]
    }
   ],
   "source": [
    "def max_depth(depth , nested_list):\n",
    "\n",
    "    for element in nested_list:\n",
    "         if isinstance(element, list):\n",
    "             depth += 1\n",
    "             total_depth.append(depth)\n",
    "             max_depth(depth , element)\n",
    "             depth -= 1\n",
    "        \n",
    "\n",
    "total_depth  = []\n",
    "max_depth(1 , [1, [2, [3, 4, [1,2,3,4] ], 5], 6, [7, 8]])\n",
    "print(max(total_depth))\n"
   ]
  }
 ],
 "metadata": {
  "kernelspec": {
   "display_name": "Python 3 (ipykernel)",
   "language": "python",
   "name": "python3"
  },
  "language_info": {
   "codemirror_mode": {
    "name": "ipython",
    "version": 3
   },
   "file_extension": ".py",
   "mimetype": "text/x-python",
   "name": "python",
   "nbconvert_exporter": "python",
   "pygments_lexer": "ipython3",
   "version": "3.11.1"
  }
 },
 "nbformat": 4,
 "nbformat_minor": 5
}
