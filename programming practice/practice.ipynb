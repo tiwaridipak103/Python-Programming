{
 "cells": [
  {
   "cell_type": "markdown",
   "metadata": {},
   "source": [
    "# Searching in matrix"
   ]
  },
  {
   "cell_type": "code",
   "execution_count": 24,
   "metadata": {},
   "outputs": [
    {
     "name": "stdout",
     "output_type": "stream",
     "text": [
      "[[ 1  2  4  6]\n",
      " [ 8  9 12 16]\n",
      " [20 21 23 24]]\n"
     ]
    }
   ],
   "source": [
    "import numpy as np\n",
    "a = np.array([[1,2,4,6],[8,9,12,16],[20,21,23,24]])\n",
    "print(a)"
   ]
  },
  {
   "cell_type": "code",
   "execution_count": 25,
   "metadata": {},
   "outputs": [
    {
     "data": {
      "text/plain": [
       "4"
      ]
     },
     "execution_count": 25,
     "metadata": {},
     "output_type": "execute_result"
    }
   ],
   "source": [
    "len(a[1])"
   ]
  },
  {
   "cell_type": "code",
   "execution_count": 26,
   "metadata": {},
   "outputs": [],
   "source": [
    "def binary(r , b):\n",
    "    low = 0\n",
    "    high = len(r)\n",
    "    mid = int((low+high)/2)\n",
    "    while low < high:\n",
    "        if b == r[mid]:\n",
    "            return 'yes'\n",
    "        elif b < r[mid]:\n",
    "            high = mid - 1\n",
    "            mid = int((low + high)/2)\n",
    "        else:\n",
    "            low = mid + 1 \n",
    "            mid = int((high + low)/2)\n",
    "    return 'no'"
   ]
  },
  {
   "cell_type": "code",
   "execution_count": 27,
   "metadata": {},
   "outputs": [
    {
     "name": "stdout",
     "output_type": "stream",
     "text": [
      "no\n"
     ]
    }
   ],
   "source": [
    "#r = [8,9,12,16]\n",
    "r = a[1]\n",
    "s = binary(r, 20)\n",
    "print(s)"
   ]
  },
  {
   "cell_type": "code",
   "execution_count": 28,
   "metadata": {},
   "outputs": [
    {
     "name": "stdout",
     "output_type": "stream",
     "text": [
      "no\n"
     ]
    }
   ],
   "source": [
    "\n",
    "c = 9\n",
    "for i in range(a.shape[0]):\n",
    "    if c < a[i][a.shape[1]-1]:\n",
    "        r = a[i]\n",
    "        s = binary(r, c)\n",
    "        print(s)\n",
    "        break\n",
    "        "
   ]
  },
  {
   "cell_type": "markdown",
   "metadata": {},
   "source": [
    "space complexity is 1\n",
    "\n",
    "do binary search on column and row.\n",
    "\n",
    "time complexity is lgm + lgn"
   ]
  },
  {
   "cell_type": "markdown",
   "metadata": {},
   "source": [
    "# Merging 2 list"
   ]
  },
  {
   "cell_type": "code",
   "execution_count": 8,
   "metadata": {},
   "outputs": [],
   "source": [
    "l1 = [1,2,2,3,10]\n",
    "l2 = [3,4,6,20]\n",
    "\n",
    "z = []\n",
    "r = 0\n",
    "i = 0\n",
    "while i < len(l1) and r < len(l2):\n",
    "    if l1[i] < l2[r]:\n",
    "        z.append(l1[i])\n",
    "        i = i + 1\n",
    "    elif l1[i] == l2[r]:\n",
    "        z.append(l1[i])\n",
    "        i =  i + 1\n",
    "    else :\n",
    "        z.append(l2[r])\n",
    "        r = r + 1        \n",
    "    "
   ]
  },
  {
   "cell_type": "code",
   "execution_count": 9,
   "metadata": {},
   "outputs": [
    {
     "data": {
      "text/plain": [
       "[1, 2, 2, 3, 3, 4, 6, 10]"
      ]
     },
     "execution_count": 9,
     "metadata": {},
     "output_type": "execute_result"
    }
   ],
   "source": [
    "z"
   ]
  },
  {
   "cell_type": "markdown",
   "metadata": {},
   "source": [
    "time compledxity is m + n\n",
    "space coplexity is o of 1"
   ]
  },
  {
   "cell_type": "markdown",
   "metadata": {},
   "source": [
    "# sort the list"
   ]
  },
  {
   "cell_type": "code",
   "execution_count": 6,
   "metadata": {},
   "outputs": [],
   "source": [
    "l = [5,3,7,6,10,2]\n",
    "a = 0\n",
    "for i in range(6):\n",
    "    temp = l[i]\n",
    "    for j in range(i+1,6):\n",
    "        if l[i] > l[j]:\n",
    "           temp = l[j]\n",
    "    l[i] = a \n",
    "    a = 0"
   ]
  },
  {
   "cell_type": "code",
   "execution_count": 7,
   "metadata": {},
   "outputs": [
    {
     "data": {
      "text/plain": [
       "[2, 2, 2, 2, 2, 0]"
      ]
     },
     "execution_count": 7,
     "metadata": {},
     "output_type": "execute_result"
    }
   ],
   "source": [
    "l"
   ]
  },
  {
   "cell_type": "code",
   "execution_count": null,
   "metadata": {},
   "outputs": [],
   "source": []
  }
 ],
 "metadata": {
  "kernelspec": {
   "display_name": "Python 3",
   "language": "python",
   "name": "python3"
  },
  "language_info": {
   "codemirror_mode": {
    "name": "ipython",
    "version": 3
   },
   "file_extension": ".py",
   "mimetype": "text/x-python",
   "name": "python",
   "nbconvert_exporter": "python",
   "pygments_lexer": "ipython3",
   "version": "3.7.5"
  }
 },
 "nbformat": 4,
 "nbformat_minor": 4
}
