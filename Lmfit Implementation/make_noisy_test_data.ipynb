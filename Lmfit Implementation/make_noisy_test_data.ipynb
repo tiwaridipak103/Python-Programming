{
 "cells": [
  {
   "cell_type": "code",
   "execution_count": null,
   "id": "05bbcdd1-d51f-4689-b03c-ea9ac9bb978b",
   "metadata": {},
   "outputs": [],
   "source": [
    "def make_noisy_test_data(p_true,Npnt,msmnt_err):\n",
    "    \"\"\"\n",
    "    \n",
    "    Make noisy test data.\n",
    "\n",
    "    Parameters\n",
    "    ----------\n",
    "    p_true      : true fitted parameters values (n x 1), must be 2D array\n",
    "    Npnt        : number of data points (m = Npnt)\n",
    "    msmnt_err   : amount of noise added to model data\n",
    "\n",
    "    Returns\n",
    "    -------\n",
    "    x           : x-values of test data (m x 1), must be 2D array\n",
    "    y           : y-values of test data (m x 1), must be 2D array\n",
    "\n",
    "    \"\"\"\n",
    "    \n",
    "    x = np.array(range(Npnt)).T\n",
    "    y_true = lm_func(x,p_true)\n",
    "    \n",
    "    # add random measurement errors\n",
    "    rng = np.random.default_rng()\n",
    "    y = y_true + msmnt_err*rng.random((Npnt)) \n",
    "    \n",
    "    return x,y"
   ]
  },
  {
   "cell_type": "code",
   "execution_count": 2,
   "id": "a451af4b-abff-4cdb-a642-053ba4f01356",
   "metadata": {},
   "outputs": [],
   "source": [
    "import numpy as np\n",
    "import seaborn as sns\n",
    "import matplotlib.pylab as pl\n",
    "import matplotlib.pyplot as plt"
   ]
  },
  {
   "cell_type": "code",
   "execution_count": 3,
   "id": "c00723a1-9219-4f8c-b831-738f6880be2f",
   "metadata": {},
   "outputs": [],
   "source": [
    "p_true = np.array([[6,20,1,5]]).T"
   ]
  },
  {
   "cell_type": "code",
   "execution_count": 4,
   "id": "379a47bf-dbec-4865-bba9-27a5e03288fa",
   "metadata": {},
   "outputs": [
    {
     "data": {
      "text/plain": [
       "array([[ 6],\n",
       "       [20],\n",
       "       [ 1],\n",
       "       [ 5]])"
      ]
     },
     "execution_count": 4,
     "metadata": {},
     "output_type": "execute_result"
    }
   ],
   "source": [
    "p_true"
   ]
  },
  {
   "cell_type": "code",
   "execution_count": 5,
   "id": "d6c97d51-61d7-4129-b484-105cdaeae17c",
   "metadata": {},
   "outputs": [],
   "source": [
    "eps = 2**(-52)"
   ]
  },
  {
   "cell_type": "code",
   "execution_count": 7,
   "id": "1c0d1e17-5b89-4dba-990a-15df463bd23d",
   "metadata": {
    "scrolled": true
   },
   "outputs": [
    {
     "data": {
      "text/plain": [
       "2.220446049250313e-16"
      ]
     },
     "execution_count": 7,
     "metadata": {},
     "output_type": "execute_result"
    }
   ],
   "source": [
    "eps"
   ]
  },
  {
   "cell_type": "code",
   "execution_count": 8,
   "id": "896914dc-a08b-49ef-9b36-1ee58ef3d900",
   "metadata": {},
   "outputs": [],
   "source": [
    "p_old  = np.zeros((5,1))"
   ]
  },
  {
   "cell_type": "code",
   "execution_count": 9,
   "id": "74eefeb6-9cfc-49ca-91b2-ad1cfe335b95",
   "metadata": {},
   "outputs": [
    {
     "data": {
      "text/plain": [
       "array([[0.],\n",
       "       [0.],\n",
       "       [0.],\n",
       "       [0.],\n",
       "       [0.]])"
      ]
     },
     "execution_count": 9,
     "metadata": {},
     "output_type": "execute_result"
    }
   ],
   "source": [
    "p_old"
   ]
  },
  {
   "cell_type": "code",
   "execution_count": 10,
   "id": "58818191-a08e-4c6f-bc4e-29cd3cbd4b05",
   "metadata": {},
   "outputs": [],
   "source": [
    "J      = np.zeros((10,5))"
   ]
  },
  {
   "cell_type": "code",
   "execution_count": 11,
   "id": "7ad56f8a-da11-46d0-ab49-752e54355ff7",
   "metadata": {},
   "outputs": [
    {
     "data": {
      "text/plain": [
       "array([[0., 0., 0., 0., 0.],\n",
       "       [0., 0., 0., 0., 0.],\n",
       "       [0., 0., 0., 0., 0.],\n",
       "       [0., 0., 0., 0., 0.],\n",
       "       [0., 0., 0., 0., 0.],\n",
       "       [0., 0., 0., 0., 0.],\n",
       "       [0., 0., 0., 0., 0.],\n",
       "       [0., 0., 0., 0., 0.],\n",
       "       [0., 0., 0., 0., 0.],\n",
       "       [0., 0., 0., 0., 0.]])"
      ]
     },
     "execution_count": 11,
     "metadata": {},
     "output_type": "execute_result"
    }
   ],
   "source": [
    "J"
   ]
  },
  {
   "cell_type": "code",
   "execution_count": null,
   "id": "c6e4a36f-7941-4b3e-ad7a-5fc118d42e37",
   "metadata": {},
   "outputs": [],
   "source": []
  }
 ],
 "metadata": {
  "kernelspec": {
   "display_name": "Python 3 (ipykernel)",
   "language": "python",
   "name": "python3"
  },
  "language_info": {
   "codemirror_mode": {
    "name": "ipython",
    "version": 3
   },
   "file_extension": ".py",
   "mimetype": "text/x-python",
   "name": "python",
   "nbconvert_exporter": "python",
   "pygments_lexer": "ipython3",
   "version": "3.11.0"
  }
 },
 "nbformat": 4,
 "nbformat_minor": 5
}
