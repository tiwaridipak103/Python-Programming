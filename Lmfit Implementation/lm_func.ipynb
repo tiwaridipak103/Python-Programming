{
 "cells": [
  {
   "cell_type": "code",
   "execution_count": null,
   "id": "e95f4753-bf2c-4d76-b0f0-a329be7ed411",
   "metadata": {},
   "outputs": [],
   "source": [
    "def lm_func(t,p):\n",
    "    \"\"\"\n",
    "\n",
    "    Define model function used for nonlinear least squares curve-fitting.\n",
    "\n",
    "    Parameters\n",
    "    ----------\n",
    "    t     : independent variable values (assumed to be error-free) (m x 1)\n",
    "    p     : parameter values , n = 4 in these examples             (n x 1)\n",
    "\n",
    "    Returns\n",
    "    -------\n",
    "    y_hat : curve-fit fctn evaluated at points t and with parameters p (m x 1)\n",
    "\n",
    "    \"\"\"\n",
    "    \n",
    "    y_hat = p[0,0]*np.exp(-t/p[1,0]) + p[2,0]*np.sin(t/p[3,0])\n",
    "    \n",
    "    return y_hat\n"
   ]
  }
 ],
 "metadata": {
  "kernelspec": {
   "display_name": "Python 3 (ipykernel)",
   "language": "python",
   "name": "python3"
  },
  "language_info": {
   "codemirror_mode": {
    "name": "ipython",
    "version": 3
   },
   "file_extension": ".py",
   "mimetype": "text/x-python",
   "name": "python",
   "nbconvert_exporter": "python",
   "pygments_lexer": "ipython3",
   "version": "3.11.0"
  }
 },
 "nbformat": 4,
 "nbformat_minor": 5
}
