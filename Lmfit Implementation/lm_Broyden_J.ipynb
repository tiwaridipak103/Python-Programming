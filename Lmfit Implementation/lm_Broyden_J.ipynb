{
 "cells": [
  {
   "cell_type": "code",
   "execution_count": null,
   "id": "e9f249a1-b2cb-45e8-ad86-db93b95c68f4",
   "metadata": {},
   "outputs": [],
   "source": [
    "def lm_Broyden_J(p_old,y_old,J,p,y):\n",
    "    \"\"\"\n",
    "    Carry out a rank-1 update to the Jacobian matrix using Broyden's equation.\n",
    "\n",
    "    Parameters\n",
    "    ----------\n",
    "    p_old :     previous set of parameters (n x 1)\n",
    "    y_old :     model evaluation at previous set of parameters, y_hat(t,p_old) (m x 1)\n",
    "    J     :     current version of the Jacobian matrix (m x n)\n",
    "    p     :     current set of parameters (n x 1)\n",
    "    y     :     model evaluation at current  set of parameters, y_hat(t,p) (m x 1)\n",
    "\n",
    "    Returns\n",
    "    -------\n",
    "    J     :     rank-1 update to Jacobian Matrix J(i,j)=dy(i)/dp(j) (m x n)\n",
    "\n",
    "    \"\"\"\n",
    "    \n",
    "    h = p - p_old\n",
    "    \n",
    "    a = (np.array([y - y_old]).T - J@h)@h.T\n",
    "    b = h.T@h\n",
    "\n",
    "    # Broyden rank-1 update eq'n\n",
    "    J = J + a/b\n",
    "\n",
    "    return J"
   ]
  }
 ],
 "metadata": {
  "kernelspec": {
   "display_name": "Python 3 (ipykernel)",
   "language": "python",
   "name": "python3"
  },
  "language_info": {
   "codemirror_mode": {
    "name": "ipython",
    "version": 3
   },
   "file_extension": ".py",
   "mimetype": "text/x-python",
   "name": "python",
   "nbconvert_exporter": "python",
   "pygments_lexer": "ipython3",
   "version": "3.11.0"
  }
 },
 "nbformat": 4,
 "nbformat_minor": 5
}
