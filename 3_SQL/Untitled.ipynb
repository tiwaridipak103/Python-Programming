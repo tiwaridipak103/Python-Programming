{
 "cells": [
  {
   "cell_type": "code",
   "execution_count": 1,
   "metadata": {},
   "outputs": [],
   "source": [
    "import pandas as pd\n",
    "import sqlite3\n",
    "\n",
    "from IPython.display import display, HTML\n",
    "\n",
    "conn = sqlite3.connect(\"Db-IMDB-Assignment.db\")"
   ]
  },
  {
   "cell_type": "code",
   "execution_count": 2,
   "metadata": {},
   "outputs": [
    {
     "name": "stdout",
     "output_type": "stream",
     "text": [
      "                         actor          director  movies\n",
      "0              'Ganja' Karuppu     N. Linguswamy       2\n",
      "1        'Lee' George Quinones  Adam Bhala Lough       1\n",
      "2   'Musafir' Radio Performing   Abhishek Kapoor       1\n",
      "3           'Nandha' Saravanan              Bala       1\n",
      "4       'Om' Rakesh Chaturvedi          R. Balki       1\n",
      "5               'Snub' Pollard       Robert Wise       1\n",
      "6               A'Ali de Sousa       Karan Johar       1\n",
      "7              A. Abdul Hameed  K.S. Prakash Rao       2\n",
      "8                    A. Darpan       Aravind Sen       1\n",
      "9             A. Deiva Sundari           Ang Lee       1\n",
      "(30430, 3)\n",
      "Wall time: 1.08 s\n"
     ]
    }
   ],
   "source": [
    "%%time\n",
    "def grader_8a(q8a):\n",
    "    q8a_results  = pd.read_sql_query(q8a,conn)\n",
    "    print(q8a_results.head(10))\n",
    "    print(q8a_results.shape)\n",
    "    #assert (q8a_results.shape == (73408, 3))\n",
    "    \n",
    "query8a = '''select a.actor,b.director, count(a.actor) movies from (select p.name actor, m.mid mids \\\n",
    "             from person p, movie m, m_cast m_c where trim(m_c.pid) = p.pid and m_c.mid = m.mid) a, \\\n",
    "             (select p.name director, m.mid mids from person p, movie m, m_director m_d where \\\n",
    "             m_d.pid = p.pid and m_d.mid = m.mid) b where a.mids = b.mids group by a.actor'''    \n",
    "\n",
    "\n",
    "grader_8a(query8a)"
   ]
  },
  {
   "cell_type": "code",
   "execution_count": 4,
   "metadata": {},
   "outputs": [
    {
     "name": "stdout",
     "output_type": "stream",
     "text": [
      "       actor   director  movies\n",
      "0  nm0000002  nm0496746       1\n",
      "1  nm0000027  nm0000180       1\n",
      "2  nm0000039  nm0896533       1\n",
      "3  nm0000042  nm0896533       1\n",
      "4  nm0000047  nm0004292       1\n",
      "5  nm0000073  nm0485943       1\n",
      "6  nm0000076  nm0000229       1\n",
      "7  nm0000092  nm0178997       1\n",
      "8  nm0000093  nm0000269       1\n",
      "9  nm0000096  nm0113819       1\n",
      "(73408, 3)\n",
      "Wall time: 985 ms\n"
     ]
    }
   ],
   "source": [
    "%%time\n",
    "def grader_8a(q8a):\n",
    "    q8a_results  = pd.read_sql_query(q8a,conn)\n",
    "    print(q8a_results.head(10))\n",
    "    print(q8a_results.shape)\n",
    "    #assert (q8a_results.shape == (73408, 3))\n",
    "    \n",
    "query8a = '''select a.actor,b.director, count(*) movies from (select distinct(p.pid) actor, m.mid mids \\\n",
    "             from person p, movie m, m_cast m_c where trim(m_c.pid) = p.pid and m_c.mid = m.mid) a, \\\n",
    "             (select distinct(p.pid) director, m.mid mids from person p, movie m, m_director m_d where \\\n",
    "             m_d.pid = p.pid and m_d.mid = m.mid) b where a.mids = b.mids group by a.actor,\\\n",
    "             b.director'''    \n",
    "\n",
    "\n",
    "grader_8a(query8a)"
   ]
  },
  {
   "cell_type": "code",
   "execution_count": 17,
   "metadata": {},
   "outputs": [
    {
     "name": "stdout",
     "output_type": "stream",
     "text": [
      "                actor      director  count(*)\n",
      "0         Jagdish Raj   Yash Chopra        11\n",
      "1    Manmohan Krishna   Yash Chopra        10\n",
      "2            Iftekhar   Yash Chopra         9\n",
      "3          Madan Puri   Yash Chopra         8\n",
      "4         Vikas Anand   Yash Chopra         8\n",
      "5         Anupam Kher   Yash Chopra         7\n",
      "6       Shashi Kapoor   Yash Chopra         7\n",
      "7    Amitabh Bachchan   Yash Chopra         6\n",
      "8       Rakhee Gulzar   Yash Chopra         5\n",
      "9      Waheeda Rehman   Yash Chopra         5\n",
      "10     Achala Sachdev   Yash Chopra         4\n",
      "11        Deven Verma   Yash Chopra         4\n",
      "12        Hema Malini   Yash Chopra         4\n",
      "13        Neetu Singh   Yash Chopra         4\n",
      "14           Ravikant   Yash Chopra         4\n",
      "15       Rishi Kapoor   Yash Chopra         4\n",
      "16     Shah Rukh Khan   Yash Chopra         4\n",
      "17        A.K. Hangal   Yash Chopra         3\n",
      "18        Anil Kapoor   Yash Chopra         3\n",
      "19        Annu Kapoor   Yash Chopra         3\n",
      "(428, 3)\n",
      "Wall time: 332 ms\n"
     ]
    }
   ],
   "source": [
    "%%time\n",
    "def grader_8a(q8a):\n",
    "    q8a_results  = pd.read_sql_query(q8a,conn)\n",
    "    print(q8a_results.head(20))\n",
    "    print(q8a_results.shape)\n",
    "    #assert (q8a_results.shape == (73408, 3))\n",
    "    \n",
    "query8a = '''select a.actor,b.director, count(*) from (select p.name actor, m.mid mids \\\n",
    "             from person p, movie m, m_cast m_c where trim(m_c.pid) = p.pid and m_c.mid = m.mid) a, \\\n",
    "             (select p.name director, m.mid mids from person p, movie m, m_director m_d where \\\n",
    "             m_d.pid = p.pid and m_d.mid = m.mid) b where a.mids = b.mids and \\\n",
    "             trim(b.director) = 'Yash Chopra' group by a.actor, b.director order by count(*) desc'''    \n",
    "\n",
    "\n",
    "grader_8a(query8a)"
   ]
  },
  {
   "cell_type": "code",
   "execution_count": 35,
   "metadata": {},
   "outputs": [
    {
     "name": "stdout",
     "output_type": "stream",
     "text": [
      "               actors     directors  max(count)\n",
      "0         Jagdish Raj   Yash Chopra          11\n",
      "1    Manmohan Krishna   Yash Chopra          10\n",
      "2            Iftekhar   Yash Chopra           9\n",
      "3          Madan Puri   Yash Chopra           8\n",
      "4         Vikas Anand   Yash Chopra           8\n",
      "5         Anupam Kher   Yash Chopra           7\n",
      "6       Shashi Kapoor   Yash Chopra           7\n",
      "7    Amitabh Bachchan   Yash Chopra           6\n",
      "8       Rakhee Gulzar   Yash Chopra           5\n",
      "9      Waheeda Rehman   Yash Chopra           5\n",
      "10     Achala Sachdev   Yash Chopra           4\n",
      "11        Deven Verma   Yash Chopra           4\n",
      "12        Hema Malini   Yash Chopra           4\n",
      "13        Neetu Singh   Yash Chopra           4\n",
      "14           Ravikant   Yash Chopra           4\n",
      "15       Rishi Kapoor   Yash Chopra           4\n",
      "16     Shah Rukh Khan   Yash Chopra           4\n",
      "17        A.K. Hangal   Yash Chopra           3\n",
      "18        Anil Kapoor   Yash Chopra           3\n",
      "19        Annu Kapoor   Yash Chopra           3\n",
      "20      Leela Chitnis   Yash Chopra           3\n",
      "21       Mohan Sherry   Yash Chopra           3\n",
      "22    Parikshat Sahni   Yash Chopra           3\n",
      "23        Prem Chopra   Yash Chopra           3\n",
      "24      Rajesh Khanna   Yash Chopra           3\n",
      "25      Sanjeev Kumar   Yash Chopra           3\n",
      "26        Saul George   Yash Chopra           3\n",
      "27       Sudha Chopra   Yash Chopra           3\n",
      "28      Surendra Rahi   Yash Chopra           3\n",
      "29       Yunus Parvez   Yash Chopra           3\n",
      "(428, 3)\n",
      "Wall time: 375 ms\n"
     ]
    }
   ],
   "source": [
    "%%time\n",
    "def grader_8a(q8a):\n",
    "    q8a_results  = pd.read_sql_query(q8a,conn)\n",
    "    print(q8a_results.head(30))\n",
    "    print(q8a_results.shape)\n",
    "    #assert (q8a_results.shape == (73408, 3))\n",
    "    \n",
    "query8a = '''select actors ,directors, max(count) from (select a.actor actors, b.director directors, \\\n",
    "             count(*) count from (select p.name actor, m.mid mids \\\n",
    "             from person p, movie m, m_cast m_c where trim(m_c.pid) = p.pid and m_c.mid = m.mid) a, \\\n",
    "             (select p.name director, m.mid mids from person p, movie m, m_director m_d where \\\n",
    "             m_d.pid = p.pid and m_d.mid = m.mid) b where a.mids = b.mids \\\n",
    "             group by a.actor, b.director order by count(*) desc) where \\\n",
    "             trim(directors) = 'Yash Chopra'  group by actors,directors order by count desc '''    \n",
    "\n",
    "\n",
    "grader_8a(query8a)"
   ]
  },
  {
   "cell_type": "code",
   "execution_count": 40,
   "metadata": {},
   "outputs": [
    {
     "name": "stdout",
     "output_type": "stream",
     "text": [
      "                       actors     directors  max(count)\n",
      "0                 Jagdish Raj   Yash Chopra          11\n",
      "1            Manmohan Krishna   Yash Chopra          10\n",
      "2                    Iftekhar   Yash Chopra           9\n",
      "3                  Madan Puri   Yash Chopra           8\n",
      "4                 Vikas Anand   Yash Chopra           8\n",
      "5                 Anupam Kher   Yash Chopra           7\n",
      "6               Shashi Kapoor   Yash Chopra           7\n",
      "7            Amitabh Bachchan   Yash Chopra           6\n",
      "8               Rakhee Gulzar   Yash Chopra           5\n",
      "9              Waheeda Rehman   Yash Chopra           5\n",
      "10             Achala Sachdev   Yash Chopra           4\n",
      "11                Deven Verma   Yash Chopra           4\n",
      "12                Hema Malini   Yash Chopra           4\n",
      "13                Neetu Singh   Yash Chopra           4\n",
      "14                   Ravikant   Yash Chopra           4\n",
      "15               Rishi Kapoor   Yash Chopra           4\n",
      "16             Shah Rukh Khan   Yash Chopra           4\n",
      "17                A.K. Hangal   Yash Chopra           3\n",
      "18                Anil Kapoor   Yash Chopra           3\n",
      "19                Annu Kapoor   Yash Chopra           3\n",
      "20              Leela Chitnis   Yash Chopra           3\n",
      "21               Mohan Sherry   Yash Chopra           3\n",
      "22            Parikshat Sahni   Yash Chopra           3\n",
      "23                Prem Chopra   Yash Chopra           3\n",
      "24              Rajesh Khanna   Yash Chopra           3\n",
      "25              Sanjeev Kumar   Yash Chopra           3\n",
      "26                Saul George   Yash Chopra           3\n",
      "27               Sudha Chopra   Yash Chopra           3\n",
      "28              Surendra Rahi   Yash Chopra           3\n",
      "29               Yunus Parvez   Yash Chopra           3\n",
      "30            Amarinder Sodhi   Yash Chopra           2\n",
      "31   Ananth Narayan Mahadevan   Yash Chopra           2\n",
      "32                Aruna Irani   Yash Chopra           2\n",
      "33                Ashok Kumar   Yash Chopra           2\n",
      "34                Ashok Verma   Yash Chopra           2\n",
      "35                      Bindu   Yash Chopra           2\n",
      "36                  C.L. Shah   Yash Chopra           2\n",
      "37          Chandu Allahabadi   Yash Chopra           2\n",
      "38           Gajanan Jagirdar   Yash Chopra           2\n",
      "39             Gita Siddharth   Yash Chopra           2\n",
      "40             Gulshan Grover   Yash Chopra           2\n",
      "41               H.L. Pardesi   Yash Chopra           2\n",
      "42            Hari Shivdasani   Yash Chopra           2\n",
      "43                     Jeevan   Yash Chopra           2\n",
      "44                Juhi Chawla   Yash Chopra           2\n",
      "45               Lalit Tiwari   Yash Chopra           2\n",
      "46                 Mala Sinha   Yash Chopra           2\n",
      "47              Manohar Singh   Yash Chopra           2\n",
      "48                  Moolchand   Yash Chopra           2\n",
      "49                      Nanda   Yash Chopra           2\n",
      "(428, 3)\n",
      "Wall time: 933 ms\n"
     ]
    }
   ],
   "source": [
    "%%time\n",
    "def grader_8a(q8a):\n",
    "    q8a_results  = pd.read_sql_query(q8a,conn)\n",
    "    print(q8a_results.head(50))\n",
    "    print(q8a_results.shape)\n",
    "    #assert (q8a_results.shape == (73408, 3))\n",
    "    \n",
    "query8a = '''select actors ,directors, max(count) from (select a.actor actors, b.director directors, \\\n",
    "             count(*) count from (select p.name actor, m.mid mids \\\n",
    "             from person p, movie m, m_cast m_c where trim(m_c.pid) = p.pid and m_c.mid = m.mid) a, \\\n",
    "             (select p.name director, m.mid mids from person p, movie m, m_director m_d where \\\n",
    "             m_d.pid = p.pid and m_d.mid = m.mid) b where a.mids = b.mids \\\n",
    "             group by a.actor, b.director order by count(*) desc) group by actors,directors \\\n",
    "             having trim(directors) = 'Yash Chopra' order by count desc '''    \n",
    "\n",
    "\n",
    "grader_8a(query8a)"
   ]
  },
  {
   "cell_type": "code",
   "execution_count": 17,
   "metadata": {},
   "outputs": [
    {
     "name": "stdout",
     "output_type": "stream",
     "text": [
      "                 actors                    directors  max(count)\n",
      "660         Reema Lagoo             Lawrence D'Souza           4\n",
      "661         Reema Lagoo                 Mahesh Bhatt           4\n",
      "662         Reema Lagoo           Sooraj R. Barjatya           4\n",
      "663           Reena Roy                J. Om Prakash           4\n",
      "664           Reena Roy               Rajkumar Kohli           4\n",
      "665               Rekha                Rakesh Roshan           4\n",
      "666               Rekha            Rama Rao Tatineni           4\n",
      "667        Rishi Kapoor                   Raj Kapoor           4\n",
      "668        Rishi Kapoor                  Yash Chopra           4\n",
      "669         Robin Bhatt                 Mahesh Bhatt           4\n",
      "670   Rohini Hattangadi            Rajkumar Santoshi           4\n",
      "671      Rohitashv Gour              Rajkumar Hirani           4\n",
      "672       Roopesh Kumar                  Umesh Mehra           4\n",
      "673       Sachin Pathak              Nishikant Kamat           4\n",
      "674         Salman Khan                  Sohail Khan           4\n",
      "675         Salman Khan           Sooraj R. Barjatya           4\n",
      "676           Samar Roy         Hrishikesh Mukherjee           4\n",
      "677             Sandhya   Shantaram Rajaram Vankudre           4\n",
      "678         Sanjay Dutt                  Jyotin Goel           4\n",
      "679         Sanjay Dutt              Rajkumar Hirani           4\n",
      "(73292, 3)\n",
      "Wall time: 1.5 s\n"
     ]
    }
   ],
   "source": [
    "%%time\n",
    "def grader_8a(q8a):\n",
    "    q8a_results  = pd.read_sql_query(q8a,conn)\n",
    "    #print(q8a_results.head(100))\n",
    "    print(q8a_results[660:680])\n",
    "    print(q8a_results.shape)\n",
    "    #assert (q8a_results.shape == (73408, 3))\n",
    "    \n",
    "query8a = '''select actors ,directors, max(count) from (select a.actor actors, b.director directors, \\\n",
    "             count(*) count from (select p.name actor, m.mid mids \\\n",
    "             from person p, movie m, m_cast m_c where trim(m_c.pid) = p.pid and m_c.mid = m.mid) a, \\\n",
    "             (select p.name director, m.mid mids from person p, movie m, m_director m_d where \\\n",
    "             m_d.pid = p.pid and m_d.mid = m.mid) b where a.mids = b.mids \\\n",
    "             group by a.actor, b.director order by count(*) desc) group by actors,directors \\\n",
    "             order by count desc '''    \n",
    "\n",
    "\n",
    "grader_8a(query8a)"
   ]
  },
  {
   "cell_type": "code",
   "execution_count": 20,
   "metadata": {},
   "outputs": [
    {
     "ename": "DatabaseError",
     "evalue": "Execution failed on sql 'select actors, directors, ROW_NUMBER() (PARTITION BY actors, directors order by count              desc) AS rn, counts from (select actors ,directors, max(count) counts from (select a.actor              actors, b.director directors, count(*) count from (select p.name              actor, m.mid mids from person p, movie m, m_cast m_c where trim(m_c.pid) = p.pid              and m_c.mid = m.mid) a, (select p.name director, m.mid mids from person p,              movie m, m_director m_d where m_d.pid = p.pid and m_d.mid = m.mid) b where              a.mids = b.mids group by a.actor, b.director order by count(*) desc) group by              actors,directors order by count desc) ': near \"(\": syntax error",
     "output_type": "error",
     "traceback": [
      "\u001b[1;31m---------------------------------------------------------------------------\u001b[0m",
      "\u001b[1;31mOperationalError\u001b[0m                          Traceback (most recent call last)",
      "\u001b[1;32mc:\\users\\dipaktiwari029\\appdata\\local\\programs\\python\\python37\\lib\\site-packages\\pandas\\io\\sql.py\u001b[0m in \u001b[0;36mexecute\u001b[1;34m(self, *args, **kwargs)\u001b[0m\n\u001b[0;32m   1680\u001b[0m         \u001b[1;32mtry\u001b[0m\u001b[1;33m:\u001b[0m\u001b[1;33m\u001b[0m\u001b[1;33m\u001b[0m\u001b[0m\n\u001b[1;32m-> 1681\u001b[1;33m             \u001b[0mcur\u001b[0m\u001b[1;33m.\u001b[0m\u001b[0mexecute\u001b[0m\u001b[1;33m(\u001b[0m\u001b[1;33m*\u001b[0m\u001b[0margs\u001b[0m\u001b[1;33m,\u001b[0m \u001b[1;33m**\u001b[0m\u001b[0mkwargs\u001b[0m\u001b[1;33m)\u001b[0m\u001b[1;33m\u001b[0m\u001b[1;33m\u001b[0m\u001b[0m\n\u001b[0m\u001b[0;32m   1682\u001b[0m             \u001b[1;32mreturn\u001b[0m \u001b[0mcur\u001b[0m\u001b[1;33m\u001b[0m\u001b[1;33m\u001b[0m\u001b[0m\n",
      "\u001b[1;31mOperationalError\u001b[0m: near \"(\": syntax error",
      "\nThe above exception was the direct cause of the following exception:\n",
      "\u001b[1;31mDatabaseError\u001b[0m                             Traceback (most recent call last)",
      "\u001b[1;32m<timed exec>\u001b[0m in \u001b[0;36m<module>\u001b[1;34m\u001b[0m\n",
      "\u001b[1;32m<timed exec>\u001b[0m in \u001b[0;36mgrader_8a\u001b[1;34m(q8a)\u001b[0m\n",
      "\u001b[1;32mc:\\users\\dipaktiwari029\\appdata\\local\\programs\\python\\python37\\lib\\site-packages\\pandas\\io\\sql.py\u001b[0m in \u001b[0;36mread_sql_query\u001b[1;34m(sql, con, index_col, coerce_float, params, parse_dates, chunksize)\u001b[0m\n\u001b[0;32m    381\u001b[0m         \u001b[0mcoerce_float\u001b[0m\u001b[1;33m=\u001b[0m\u001b[0mcoerce_float\u001b[0m\u001b[1;33m,\u001b[0m\u001b[1;33m\u001b[0m\u001b[1;33m\u001b[0m\u001b[0m\n\u001b[0;32m    382\u001b[0m         \u001b[0mparse_dates\u001b[0m\u001b[1;33m=\u001b[0m\u001b[0mparse_dates\u001b[0m\u001b[1;33m,\u001b[0m\u001b[1;33m\u001b[0m\u001b[1;33m\u001b[0m\u001b[0m\n\u001b[1;32m--> 383\u001b[1;33m         \u001b[0mchunksize\u001b[0m\u001b[1;33m=\u001b[0m\u001b[0mchunksize\u001b[0m\u001b[1;33m,\u001b[0m\u001b[1;33m\u001b[0m\u001b[1;33m\u001b[0m\u001b[0m\n\u001b[0m\u001b[0;32m    384\u001b[0m     )\n\u001b[0;32m    385\u001b[0m \u001b[1;33m\u001b[0m\u001b[0m\n",
      "\u001b[1;32mc:\\users\\dipaktiwari029\\appdata\\local\\programs\\python\\python37\\lib\\site-packages\\pandas\\io\\sql.py\u001b[0m in \u001b[0;36mread_query\u001b[1;34m(self, sql, index_col, coerce_float, params, parse_dates, chunksize)\u001b[0m\n\u001b[0;32m   1725\u001b[0m \u001b[1;33m\u001b[0m\u001b[0m\n\u001b[0;32m   1726\u001b[0m         \u001b[0margs\u001b[0m \u001b[1;33m=\u001b[0m \u001b[0m_convert_params\u001b[0m\u001b[1;33m(\u001b[0m\u001b[0msql\u001b[0m\u001b[1;33m,\u001b[0m \u001b[0mparams\u001b[0m\u001b[1;33m)\u001b[0m\u001b[1;33m\u001b[0m\u001b[1;33m\u001b[0m\u001b[0m\n\u001b[1;32m-> 1727\u001b[1;33m         \u001b[0mcursor\u001b[0m \u001b[1;33m=\u001b[0m \u001b[0mself\u001b[0m\u001b[1;33m.\u001b[0m\u001b[0mexecute\u001b[0m\u001b[1;33m(\u001b[0m\u001b[1;33m*\u001b[0m\u001b[0margs\u001b[0m\u001b[1;33m)\u001b[0m\u001b[1;33m\u001b[0m\u001b[1;33m\u001b[0m\u001b[0m\n\u001b[0m\u001b[0;32m   1728\u001b[0m         \u001b[0mcolumns\u001b[0m \u001b[1;33m=\u001b[0m \u001b[1;33m[\u001b[0m\u001b[0mcol_desc\u001b[0m\u001b[1;33m[\u001b[0m\u001b[1;36m0\u001b[0m\u001b[1;33m]\u001b[0m \u001b[1;32mfor\u001b[0m \u001b[0mcol_desc\u001b[0m \u001b[1;32min\u001b[0m \u001b[0mcursor\u001b[0m\u001b[1;33m.\u001b[0m\u001b[0mdescription\u001b[0m\u001b[1;33m]\u001b[0m\u001b[1;33m\u001b[0m\u001b[1;33m\u001b[0m\u001b[0m\n\u001b[0;32m   1729\u001b[0m \u001b[1;33m\u001b[0m\u001b[0m\n",
      "\u001b[1;32mc:\\users\\dipaktiwari029\\appdata\\local\\programs\\python\\python37\\lib\\site-packages\\pandas\\io\\sql.py\u001b[0m in \u001b[0;36mexecute\u001b[1;34m(self, *args, **kwargs)\u001b[0m\n\u001b[0;32m   1691\u001b[0m \u001b[1;33m\u001b[0m\u001b[0m\n\u001b[0;32m   1692\u001b[0m             \u001b[0mex\u001b[0m \u001b[1;33m=\u001b[0m \u001b[0mDatabaseError\u001b[0m\u001b[1;33m(\u001b[0m\u001b[1;34mf\"Execution failed on sql '{args[0]}': {exc}\"\u001b[0m\u001b[1;33m)\u001b[0m\u001b[1;33m\u001b[0m\u001b[1;33m\u001b[0m\u001b[0m\n\u001b[1;32m-> 1693\u001b[1;33m             \u001b[1;32mraise\u001b[0m \u001b[0mex\u001b[0m \u001b[1;32mfrom\u001b[0m \u001b[0mexc\u001b[0m\u001b[1;33m\u001b[0m\u001b[1;33m\u001b[0m\u001b[0m\n\u001b[0m\u001b[0;32m   1694\u001b[0m \u001b[1;33m\u001b[0m\u001b[0m\n\u001b[0;32m   1695\u001b[0m     \u001b[1;33m@\u001b[0m\u001b[0mstaticmethod\u001b[0m\u001b[1;33m\u001b[0m\u001b[1;33m\u001b[0m\u001b[0m\n",
      "\u001b[1;31mDatabaseError\u001b[0m: Execution failed on sql 'select actors, directors, ROW_NUMBER() (PARTITION BY actors, directors order by count              desc) AS rn, counts from (select actors ,directors, max(count) counts from (select a.actor              actors, b.director directors, count(*) count from (select p.name              actor, m.mid mids from person p, movie m, m_cast m_c where trim(m_c.pid) = p.pid              and m_c.mid = m.mid) a, (select p.name director, m.mid mids from person p,              movie m, m_director m_d where m_d.pid = p.pid and m_d.mid = m.mid) b where              a.mids = b.mids group by a.actor, b.director order by count(*) desc) group by              actors,directors order by count desc) ': near \"(\": syntax error"
     ]
    }
   ],
   "source": [
    "%%time\n",
    "def grader_8a(q8a):\n",
    "    q8a_results  = pd.read_sql_query(q8a,conn)\n",
    "    #print(q8a_results.head(100))\n",
    "    print(q8a_results[660:680])\n",
    "    print(q8a_results.shape)\n",
    "    #assert (q8a_results.shape == (73408, 3))\n",
    "    \n",
    "query8a = '''select actors, directors, ROW_NUMBER() (PARTITION BY actors, directors order by count \\\n",
    "             desc) AS rn, counts from (select actors ,directors, max(count) counts from (select a.actor \\\n",
    "             actors, b.director directors, count(*) count from (select p.name \\\n",
    "             actor, m.mid mids from person p, movie m, m_cast m_c where trim(m_c.pid) = p.pid \\\n",
    "             and m_c.mid = m.mid) a, (select p.name director, m.mid mids from person p, \\\n",
    "             movie m, m_director m_d where m_d.pid = p.pid and m_d.mid = m.mid) b where \\\n",
    "             a.mids = b.mids group by a.actor, b.director order by count(*) desc '''    \n",
    "\n",
    "\n",
    "grader_8a(query8a)"
   ]
  },
  {
   "cell_type": "code",
   "execution_count": 23,
   "metadata": {},
   "outputs": [
    {
     "ename": "DatabaseError",
     "evalue": "Execution failed on sql 'select c.actors, c.directors, ROW_NUMBER() (PARTITION BY c.actors, c.directors order by c.count              desc) AS rn from (select a.actor actors, b.director directors, count(*) count from (select p.name              actor, m.mid mids from person p, movie m, m_cast m_c where trim(m_c.pid) = p.pid              and m_c.mid = m.mid) a, (select p.name director, m.mid mids from person p,              movie m, m_director m_d where m_d.pid = p.pid and m_d.mid = m.mid) b where              a.mids = b.mids group by a.actor, b.director order by count(*) desc) c ': near \"(\": syntax error",
     "output_type": "error",
     "traceback": [
      "\u001b[1;31m---------------------------------------------------------------------------\u001b[0m",
      "\u001b[1;31mOperationalError\u001b[0m                          Traceback (most recent call last)",
      "\u001b[1;32mc:\\users\\dipaktiwari029\\appdata\\local\\programs\\python\\python37\\lib\\site-packages\\pandas\\io\\sql.py\u001b[0m in \u001b[0;36mexecute\u001b[1;34m(self, *args, **kwargs)\u001b[0m\n\u001b[0;32m   1680\u001b[0m         \u001b[1;32mtry\u001b[0m\u001b[1;33m:\u001b[0m\u001b[1;33m\u001b[0m\u001b[1;33m\u001b[0m\u001b[0m\n\u001b[1;32m-> 1681\u001b[1;33m             \u001b[0mcur\u001b[0m\u001b[1;33m.\u001b[0m\u001b[0mexecute\u001b[0m\u001b[1;33m(\u001b[0m\u001b[1;33m*\u001b[0m\u001b[0margs\u001b[0m\u001b[1;33m,\u001b[0m \u001b[1;33m**\u001b[0m\u001b[0mkwargs\u001b[0m\u001b[1;33m)\u001b[0m\u001b[1;33m\u001b[0m\u001b[1;33m\u001b[0m\u001b[0m\n\u001b[0m\u001b[0;32m   1682\u001b[0m             \u001b[1;32mreturn\u001b[0m \u001b[0mcur\u001b[0m\u001b[1;33m\u001b[0m\u001b[1;33m\u001b[0m\u001b[0m\n",
      "\u001b[1;31mOperationalError\u001b[0m: near \"(\": syntax error",
      "\nThe above exception was the direct cause of the following exception:\n",
      "\u001b[1;31mDatabaseError\u001b[0m                             Traceback (most recent call last)",
      "\u001b[1;32m<timed exec>\u001b[0m in \u001b[0;36m<module>\u001b[1;34m\u001b[0m\n",
      "\u001b[1;32m<timed exec>\u001b[0m in \u001b[0;36mgrader_8a\u001b[1;34m(q8a)\u001b[0m\n",
      "\u001b[1;32mc:\\users\\dipaktiwari029\\appdata\\local\\programs\\python\\python37\\lib\\site-packages\\pandas\\io\\sql.py\u001b[0m in \u001b[0;36mread_sql_query\u001b[1;34m(sql, con, index_col, coerce_float, params, parse_dates, chunksize)\u001b[0m\n\u001b[0;32m    381\u001b[0m         \u001b[0mcoerce_float\u001b[0m\u001b[1;33m=\u001b[0m\u001b[0mcoerce_float\u001b[0m\u001b[1;33m,\u001b[0m\u001b[1;33m\u001b[0m\u001b[1;33m\u001b[0m\u001b[0m\n\u001b[0;32m    382\u001b[0m         \u001b[0mparse_dates\u001b[0m\u001b[1;33m=\u001b[0m\u001b[0mparse_dates\u001b[0m\u001b[1;33m,\u001b[0m\u001b[1;33m\u001b[0m\u001b[1;33m\u001b[0m\u001b[0m\n\u001b[1;32m--> 383\u001b[1;33m         \u001b[0mchunksize\u001b[0m\u001b[1;33m=\u001b[0m\u001b[0mchunksize\u001b[0m\u001b[1;33m,\u001b[0m\u001b[1;33m\u001b[0m\u001b[1;33m\u001b[0m\u001b[0m\n\u001b[0m\u001b[0;32m    384\u001b[0m     )\n\u001b[0;32m    385\u001b[0m \u001b[1;33m\u001b[0m\u001b[0m\n",
      "\u001b[1;32mc:\\users\\dipaktiwari029\\appdata\\local\\programs\\python\\python37\\lib\\site-packages\\pandas\\io\\sql.py\u001b[0m in \u001b[0;36mread_query\u001b[1;34m(self, sql, index_col, coerce_float, params, parse_dates, chunksize)\u001b[0m\n\u001b[0;32m   1725\u001b[0m \u001b[1;33m\u001b[0m\u001b[0m\n\u001b[0;32m   1726\u001b[0m         \u001b[0margs\u001b[0m \u001b[1;33m=\u001b[0m \u001b[0m_convert_params\u001b[0m\u001b[1;33m(\u001b[0m\u001b[0msql\u001b[0m\u001b[1;33m,\u001b[0m \u001b[0mparams\u001b[0m\u001b[1;33m)\u001b[0m\u001b[1;33m\u001b[0m\u001b[1;33m\u001b[0m\u001b[0m\n\u001b[1;32m-> 1727\u001b[1;33m         \u001b[0mcursor\u001b[0m \u001b[1;33m=\u001b[0m \u001b[0mself\u001b[0m\u001b[1;33m.\u001b[0m\u001b[0mexecute\u001b[0m\u001b[1;33m(\u001b[0m\u001b[1;33m*\u001b[0m\u001b[0margs\u001b[0m\u001b[1;33m)\u001b[0m\u001b[1;33m\u001b[0m\u001b[1;33m\u001b[0m\u001b[0m\n\u001b[0m\u001b[0;32m   1728\u001b[0m         \u001b[0mcolumns\u001b[0m \u001b[1;33m=\u001b[0m \u001b[1;33m[\u001b[0m\u001b[0mcol_desc\u001b[0m\u001b[1;33m[\u001b[0m\u001b[1;36m0\u001b[0m\u001b[1;33m]\u001b[0m \u001b[1;32mfor\u001b[0m \u001b[0mcol_desc\u001b[0m \u001b[1;32min\u001b[0m \u001b[0mcursor\u001b[0m\u001b[1;33m.\u001b[0m\u001b[0mdescription\u001b[0m\u001b[1;33m]\u001b[0m\u001b[1;33m\u001b[0m\u001b[1;33m\u001b[0m\u001b[0m\n\u001b[0;32m   1729\u001b[0m \u001b[1;33m\u001b[0m\u001b[0m\n",
      "\u001b[1;32mc:\\users\\dipaktiwari029\\appdata\\local\\programs\\python\\python37\\lib\\site-packages\\pandas\\io\\sql.py\u001b[0m in \u001b[0;36mexecute\u001b[1;34m(self, *args, **kwargs)\u001b[0m\n\u001b[0;32m   1691\u001b[0m \u001b[1;33m\u001b[0m\u001b[0m\n\u001b[0;32m   1692\u001b[0m             \u001b[0mex\u001b[0m \u001b[1;33m=\u001b[0m \u001b[0mDatabaseError\u001b[0m\u001b[1;33m(\u001b[0m\u001b[1;34mf\"Execution failed on sql '{args[0]}': {exc}\"\u001b[0m\u001b[1;33m)\u001b[0m\u001b[1;33m\u001b[0m\u001b[1;33m\u001b[0m\u001b[0m\n\u001b[1;32m-> 1693\u001b[1;33m             \u001b[1;32mraise\u001b[0m \u001b[0mex\u001b[0m \u001b[1;32mfrom\u001b[0m \u001b[0mexc\u001b[0m\u001b[1;33m\u001b[0m\u001b[1;33m\u001b[0m\u001b[0m\n\u001b[0m\u001b[0;32m   1694\u001b[0m \u001b[1;33m\u001b[0m\u001b[0m\n\u001b[0;32m   1695\u001b[0m     \u001b[1;33m@\u001b[0m\u001b[0mstaticmethod\u001b[0m\u001b[1;33m\u001b[0m\u001b[1;33m\u001b[0m\u001b[0m\n",
      "\u001b[1;31mDatabaseError\u001b[0m: Execution failed on sql 'select c.actors, c.directors, ROW_NUMBER() (PARTITION BY c.actors, c.directors order by c.count              desc) AS rn from (select a.actor actors, b.director directors, count(*) count from (select p.name              actor, m.mid mids from person p, movie m, m_cast m_c where trim(m_c.pid) = p.pid              and m_c.mid = m.mid) a, (select p.name director, m.mid mids from person p,              movie m, m_director m_d where m_d.pid = p.pid and m_d.mid = m.mid) b where              a.mids = b.mids group by a.actor, b.director order by count(*) desc) c ': near \"(\": syntax error"
     ]
    }
   ],
   "source": [
    "%%time\n",
    "def grader_8a(q8a):\n",
    "    q8a_results  = pd.read_sql_query(q8a,conn)\n",
    "    #print(q8a_results.head(100))\n",
    "    print(q8a_results[660:680])\n",
    "    print(q8a_results.shape)\n",
    "    #assert (q8a_results.shape == (73408, 3))\n",
    "    \n",
    "query8a = '''select c.actors, c.directors, ROW_NUMBER() (PARTITION BY c.actors, c.directors order by c.count \\\n",
    "             desc) AS rn from (select a.actor actors, b.director directors, count(*) count from (select p.name \\\n",
    "             actor, m.mid mids from person p, movie m, m_cast m_c where trim(m_c.pid) = p.pid \\\n",
    "             and m_c.mid = m.mid) a, (select p.name director, m.mid mids from person p, \\\n",
    "             movie m, m_director m_d where m_d.pid = p.pid and m_d.mid = m.mid) b where \\\n",
    "             a.mids = b.mids group by a.actor, b.director order by count(*) desc) c '''    \n",
    "\n",
    "\n",
    "grader_8a(query8a)"
   ]
  },
  {
   "cell_type": "code",
   "execution_count": 4,
   "metadata": {},
   "outputs": [
    {
     "name": "stdout",
     "output_type": "stream",
     "text": [
      "              actors  no_of_movies\n",
      "0        Jagdish Raj            11\n",
      "1   Manmohan Krishna            10\n",
      "2           Iftekhar             9\n",
      "3         Madan Puri             8\n",
      "4        Vikas Anand             8\n",
      "5        Anupam Kher             7\n",
      "6      Shashi Kapoor             7\n",
      "7   Amitabh Bachchan             6\n",
      "8      Rakhee Gulzar             5\n",
      "9     Waheeda Rehman             5\n",
      "(428, 2)\n"
     ]
    }
   ],
   "source": [
    "def grader_8a(q8a):\n",
    "    q8a_results  = pd.read_sql_query(q8a,conn)\n",
    "    print(q8a_results.head(10))\n",
    "    print(q8a_results.shape)\n",
    "    #assert (q8_results.shape == (245, 2))\n",
    "    \n",
    "query8a = '''select actors, count no_of_movies from (select actors, directors,count, DENSE_RANK() \\\n",
    "             OVER (PARTITION BY actors, directors ORDER BY count desc) r from (select a.actor \\\n",
    "             actors, b.director directors, count(*) count from (select distinct(p.name) actor, m.mid mids \\\n",
    "             from person p, movie m, m_cast m_c where trim(m_c.pid) = p.pid and m_c.mid = m.mid) \\\n",
    "             a, (select distinct(p.name) director, m.mid mids from person p, movie m, m_director m_d \\\n",
    "             where m_d.pid = p.pid and m_d.mid = m.mid) b where a.mids = b.mids group by a.actor, \\\n",
    "             b.director order by count(*) desc)) where r = 1 and trim(directors) = 'Yash Chopra' \\\n",
    "             order by count desc  '''    \n",
    "\n",
    "\n",
    "grader_8a(query8a)"
   ]
  },
  {
   "cell_type": "code",
   "execution_count": 41,
   "metadata": {},
   "outputs": [
    {
     "name": "stdout",
     "output_type": "stream",
     "text": [
      "                        actors           directors  movies\n",
      "0              'Ganja' Karuppu       N. Linguswamy       1\n",
      "1              'Ganja' Karuppu            Perarasu       1\n",
      "2        'Lee' George Quinones    Adam Bhala Lough       1\n",
      "3   'Musafir' Radio Performing     Abhishek Kapoor       1\n",
      "4           'Nandha' Saravanan                Bala       1\n",
      "5       'Om' Rakesh Chaturvedi            R. Balki       1\n",
      "6               'Snub' Pollard         Robert Wise       1\n",
      "7               A'Ali de Sousa         Karan Johar       1\n",
      "8              A. Abdul Hameed    K.S. Prakash Rao       1\n",
      "9              A. Abdul Hameed  K.S. Sethumadhavan       1\n",
      "(73292, 3)\n"
     ]
    }
   ],
   "source": [
    "def grader_8a(q8a):\n",
    "    q8a_results  = pd.read_sql_query(q8a,conn)\n",
    "    print(q8a_results.head(10))\n",
    "    print(q8a_results.shape)\n",
    "    assert (q8a_results.shape == (73408, 3))\n",
    "    \n",
    "query8a = '''select actors,directors,count movies from (select actors, directors,count, DENSE_RANK() \\\n",
    "             OVER (PARTITION BY actors, directors ORDER BY count desc) r from (select a.actor \\\n",
    "             actors, b.director directors, count(*) count from (select p.name actor, m.mid mids \\\n",
    "             from person p, movie m, m_cast m_c where trim(m_c.pid) = p.pid and m_c.mid = m.mid) \\\n",
    "             a, (select p.name director, m.mid mids from person p, movie m, m_director m_d \\\n",
    "             where m_d.pid = p.pid and m_d.mid = m.mid) b where a.mids = b.mids group by a.actor, \\\n",
    "             b.director order by count(*) desc))  '''    \n",
    "\n",
    "\n",
    "grader_8a(query8a)"
   ]
  },
  {
   "cell_type": "code",
   "execution_count": 7,
   "metadata": {},
   "outputs": [
    {
     "name": "stdout",
     "output_type": "stream",
     "text": [
      "               actors              directors  max(count)\n",
      "50      Shakti Kapoor             K. Bapaiah           9\n",
      "51        Soni Razdan           Mahesh Bhatt           9\n",
      "52      Tiku Talsania           Mahesh Bhatt           9\n",
      "53   Aftab Shivdasani           Vikram Bhatt           8\n",
      "54   Amitabh Bachchan         Manmohan Desai           8\n",
      "55        Amrish Puri        Govind Nihalani           8\n",
      "56        Amrish Puri          Shyam Benegal           8\n",
      "57    Anjan Srivastav      Rajkumar Santoshi           8\n",
      "58      David Abraham   Hrishikesh Mukherjee           8\n",
      "59        Deven Verma   Hrishikesh Mukherjee           8\n",
      "60         Feroz Khan             Feroz Khan           8\n",
      "61       Guddi Maruti           David Dhawan           8\n",
      "62     Gulshan Grover            Umesh Mehra           8\n",
      "63      Lalita Kumari   Hrishikesh Mukherjee           8\n",
      "64          Mac Mohan           Raj N. Sippy           8\n",
      "65         Madan Puri            Yash Chopra           8\n",
      "66        Manoj Joshi      Madhur Bhandarkar           8\n",
      "67      Mukesh Tiwari           Rohit Shetty           8\n",
      "68            Om Puri           Priyadarshan           8\n",
      "69        Om Shivpuri                 Gulzar           8\n",
      "(73292, 3)\n",
      "Wall time: 1.43 s\n"
     ]
    }
   ],
   "source": [
    "%%time\n",
    "def grader_8a(q8a):\n",
    "    q8a_results  = pd.read_sql_query(q8a,conn)\n",
    "    #print(q8a_results.head(100))\n",
    "    print(q8a_results[50:70])\n",
    "    print(q8a_results.shape)\n",
    "    #assert (q8a_results.shape == (73408, 3))\n",
    "    \n",
    "query8a = '''select actors ,directors, max(count) from (select a.actor actors, b.director directors, \\\n",
    "             count(*) count from (select distinct(p.name) actor, m.mid mids \\\n",
    "             from person p, movie m, m_cast m_c where trim(m_c.pid) = p.pid and m_c.mid = m.mid) a, \\\n",
    "             (select distinct(p.name) director, m.mid mids from person p, movie m, m_director m_d where \\\n",
    "             m_d.pid = p.pid and m_d.mid = m.mid) b where a.mids = b.mids \\\n",
    "             group by a.actor, b.director order by count(*) desc) group by actors,directors \\\n",
    "             order by count desc '''    \n",
    "\n",
    "\n",
    "grader_8a(query8a)"
   ]
  },
  {
   "cell_type": "code",
   "execution_count": 9,
   "metadata": {},
   "outputs": [
    {
     "name": "stdout",
     "output_type": "stream",
     "text": [
      "                actor      director  count(*)\n",
      "0         A.K. Hangal   Yash Chopra         3\n",
      "1          Aamir Khan   Yash Chopra         1\n",
      "2        Abbie Murphy   Yash Chopra         1\n",
      "3      Achala Sachdev   Yash Chopra         4\n",
      "4                Ajit   Yash Chopra         1\n",
      "5   Akhilendra Mishra   Yash Chopra         1\n",
      "6        Akhtar Mirza   Yash Chopra         1\n",
      "7      Akhtar-Ul-Iman   Yash Chopra         1\n",
      "8        Akshay Kumar   Yash Chopra         1\n",
      "9       Alankar Joshi   Yash Chopra         1\n",
      "(428, 3)\n",
      "Wall time: 342 ms\n"
     ]
    }
   ],
   "source": [
    "%%time\n",
    "def grader_8a(q8a):\n",
    "    q8a_results  = pd.read_sql_query(q8a,conn)\n",
    "    print(q8a_results.head(10))\n",
    "    print(q8a_results.shape)\n",
    "    #assert (q8a_results.shape == (73408, 3))\n",
    "    \n",
    "query8a = '''select a.actor,b.director, count(*) from (select p.name actor, m.mid mids \\\n",
    "             from person p, movie m, m_cast m_c where trim(m_c.pid) = p.pid and m_c.mid = m.mid) a, \\\n",
    "             (select p.name director, m.mid mids from person p, movie m, m_director m_d where \\\n",
    "             m_d.pid = p.pid and m_d.mid = m.mid) b where a.mids = b.mids and \\\n",
    "             trim(b.director) = 'Yash Chopra' group by a.actor'''    \n",
    "\n",
    "\n",
    "grader_8a(query8a)"
   ]
  },
  {
   "cell_type": "code",
   "execution_count": 10,
   "metadata": {},
   "outputs": [
    {
     "name": "stdout",
     "output_type": "stream",
     "text": [
      "               actor  no_of_movies\n",
      "0        Jagdish Raj            11\n",
      "1   Manmohan Krishna            10\n",
      "2           Iftekhar             9\n",
      "3      Shashi Kapoor             7\n",
      "4      Rakhee Gulzar             5\n",
      "5     Waheeda Rehman             5\n",
      "6     Achala Sachdev             4\n",
      "7        Neetu Singh             4\n",
      "8      Leela Chitnis             3\n",
      "9       Sudha Chopra             3\n",
      "(116, 2)\n",
      "Wall time: 1.85 s\n"
     ]
    }
   ],
   "source": [
    "%%time\n",
    "\n",
    "def grader_8(q8):\n",
    "    q8_results  = pd.read_sql_query(q8,conn)\n",
    "    print(q8_results.head(10))\n",
    "    print(q8_results.shape)\n",
    "    #assert (q8_results.shape == (245, 2))\n",
    "    \n",
    "query8 = '''select  actor , no_of_movies from (select actor , no_of_movies from  (select \\\n",
    "            act actor, dir ,no_of_movies from (select act, dir , max(num) no_of_movies from \\\n",
    "            (select act, dir ,count(act) num from (select act , dir , mov from (select act , dir , \\\n",
    "            mov from (select a.actor act  , b.director dir, a.movies mov from (select p.name \\\n",
    "            actor , m.title movies , m.year years ,m.mid mi from (select * from person \\\n",
    "            where rowid in(select min(rowid) from person group by pid)) p, movie m,  m_cast m_c \\\n",
    "            where trim(m_c.pid)=p.pid and m_c.mid=m.mid) a , (select p.name director , m.title \\\n",
    "            movies , m.year years ,m.mid mi from (select * from person where rowid in(select \\\n",
    "            min(rowid) from person group by pid)) p, movie m,  m_director m_d where \\\n",
    "            trim(m_d.pid)=p.pid and m_d.mid=m.mid ) b where a.mi=b.mi) )  group by act ,mov) \\\n",
    "            group by act,dir) group by act) where trim(dir)='Yash Chopra') order by no_of_movies \\\n",
    "            desc) order by  no_of_movies desc'''\n",
    "\n",
    "grader_8(query8)"
   ]
  },
  {
   "cell_type": "code",
   "execution_count": 8,
   "metadata": {},
   "outputs": [
    {
     "name": "stdout",
     "output_type": "stream",
     "text": [
      "Empty DataFrame\n",
      "Columns: [Name, count]\n",
      "Index: []\n",
      "(0, 2)\n",
      "Wall time: 577 ms\n"
     ]
    }
   ],
   "source": [
    "%%time\n",
    "\n",
    "def grader_8(q8):\n",
    "    q8_results  = pd.read_sql_query(q8,conn)\n",
    "    print(q8_results.head(10))\n",
    "    print(q8_results.shape)\n",
    "    #assert (q8_results.shape == (245, 2))\n",
    "    \n",
    "query8 = '''select p.name,h.count from(select mc.pid as mcpid,md.pid as mdpid,count(mc.MID) as \\\n",
    "            count from m_cast as mc join m_director md on md.MID=mc.MID group by mc.pid ,md.pid) h \\\n",
    "            join person p on h.mcpid=p.pid where h.count = (select count(*) as count from m_cast \\\n",
    "            as mc join m_director md on md.mid=mc.mid where mc.pid=h.mcpid group by mc.pid,md.pid \\\n",
    "            order by count(*) desc limit 1) and h.mdpid = (select pid from person where name \\\n",
    "            like '%Yash Chopra%') order by h.count desc'''\n",
    "\n",
    "grader_8(query8)"
   ]
  },
  {
   "cell_type": "code",
   "execution_count": 12,
   "metadata": {},
   "outputs": [
    {
     "ename": "DatabaseError",
     "evalue": "Execution failed on sql 'select actors, count no_of_movies from (select actors, directors, dir, count, DENSE_RANK()              OVER (PARTITION BY actors, directors,dir ORDER BY count desc) r from (select a.actor              actors, b.director directors,b.dir dir, count(*) count from (select a.actor,b.director, count(*) movies from (select p.pid actor, m.mid mids              from person p, movie m, m_cast m_c where trim(m_c.pid) = p.pid and m_c.mid = m.mid) a,              (select p.pid director,p.name dir, m.mid mids from person p, movie m, m_director m_d where              m_d.pid = p.pid and m_d.mid = m.mid) b where a.mids = b.mids group by a.actor,             b.director order by count(*) desc)) where r = 1 and trim(dir) = 'Yash Chopra'              order by count desc': incomplete input",
     "output_type": "error",
     "traceback": [
      "\u001b[1;31m---------------------------------------------------------------------------\u001b[0m",
      "\u001b[1;31mOperationalError\u001b[0m                          Traceback (most recent call last)",
      "\u001b[1;32mc:\\users\\dipaktiwari029\\appdata\\local\\programs\\python\\python37\\lib\\site-packages\\pandas\\io\\sql.py\u001b[0m in \u001b[0;36mexecute\u001b[1;34m(self, *args, **kwargs)\u001b[0m\n\u001b[0;32m   1680\u001b[0m         \u001b[1;32mtry\u001b[0m\u001b[1;33m:\u001b[0m\u001b[1;33m\u001b[0m\u001b[1;33m\u001b[0m\u001b[0m\n\u001b[1;32m-> 1681\u001b[1;33m             \u001b[0mcur\u001b[0m\u001b[1;33m.\u001b[0m\u001b[0mexecute\u001b[0m\u001b[1;33m(\u001b[0m\u001b[1;33m*\u001b[0m\u001b[0margs\u001b[0m\u001b[1;33m,\u001b[0m \u001b[1;33m**\u001b[0m\u001b[0mkwargs\u001b[0m\u001b[1;33m)\u001b[0m\u001b[1;33m\u001b[0m\u001b[1;33m\u001b[0m\u001b[0m\n\u001b[0m\u001b[0;32m   1682\u001b[0m             \u001b[1;32mreturn\u001b[0m \u001b[0mcur\u001b[0m\u001b[1;33m\u001b[0m\u001b[1;33m\u001b[0m\u001b[0m\n",
      "\u001b[1;31mOperationalError\u001b[0m: incomplete input",
      "\nThe above exception was the direct cause of the following exception:\n",
      "\u001b[1;31mDatabaseError\u001b[0m                             Traceback (most recent call last)",
      "\u001b[1;32m<timed exec>\u001b[0m in \u001b[0;36m<module>\u001b[1;34m\u001b[0m\n",
      "\u001b[1;32m<timed exec>\u001b[0m in \u001b[0;36mgrader_8a\u001b[1;34m(q8a)\u001b[0m\n",
      "\u001b[1;32mc:\\users\\dipaktiwari029\\appdata\\local\\programs\\python\\python37\\lib\\site-packages\\pandas\\io\\sql.py\u001b[0m in \u001b[0;36mread_sql_query\u001b[1;34m(sql, con, index_col, coerce_float, params, parse_dates, chunksize)\u001b[0m\n\u001b[0;32m    381\u001b[0m         \u001b[0mcoerce_float\u001b[0m\u001b[1;33m=\u001b[0m\u001b[0mcoerce_float\u001b[0m\u001b[1;33m,\u001b[0m\u001b[1;33m\u001b[0m\u001b[1;33m\u001b[0m\u001b[0m\n\u001b[0;32m    382\u001b[0m         \u001b[0mparse_dates\u001b[0m\u001b[1;33m=\u001b[0m\u001b[0mparse_dates\u001b[0m\u001b[1;33m,\u001b[0m\u001b[1;33m\u001b[0m\u001b[1;33m\u001b[0m\u001b[0m\n\u001b[1;32m--> 383\u001b[1;33m         \u001b[0mchunksize\u001b[0m\u001b[1;33m=\u001b[0m\u001b[0mchunksize\u001b[0m\u001b[1;33m,\u001b[0m\u001b[1;33m\u001b[0m\u001b[1;33m\u001b[0m\u001b[0m\n\u001b[0m\u001b[0;32m    384\u001b[0m     )\n\u001b[0;32m    385\u001b[0m \u001b[1;33m\u001b[0m\u001b[0m\n",
      "\u001b[1;32mc:\\users\\dipaktiwari029\\appdata\\local\\programs\\python\\python37\\lib\\site-packages\\pandas\\io\\sql.py\u001b[0m in \u001b[0;36mread_query\u001b[1;34m(self, sql, index_col, coerce_float, params, parse_dates, chunksize)\u001b[0m\n\u001b[0;32m   1725\u001b[0m \u001b[1;33m\u001b[0m\u001b[0m\n\u001b[0;32m   1726\u001b[0m         \u001b[0margs\u001b[0m \u001b[1;33m=\u001b[0m \u001b[0m_convert_params\u001b[0m\u001b[1;33m(\u001b[0m\u001b[0msql\u001b[0m\u001b[1;33m,\u001b[0m \u001b[0mparams\u001b[0m\u001b[1;33m)\u001b[0m\u001b[1;33m\u001b[0m\u001b[1;33m\u001b[0m\u001b[0m\n\u001b[1;32m-> 1727\u001b[1;33m         \u001b[0mcursor\u001b[0m \u001b[1;33m=\u001b[0m \u001b[0mself\u001b[0m\u001b[1;33m.\u001b[0m\u001b[0mexecute\u001b[0m\u001b[1;33m(\u001b[0m\u001b[1;33m*\u001b[0m\u001b[0margs\u001b[0m\u001b[1;33m)\u001b[0m\u001b[1;33m\u001b[0m\u001b[1;33m\u001b[0m\u001b[0m\n\u001b[0m\u001b[0;32m   1728\u001b[0m         \u001b[0mcolumns\u001b[0m \u001b[1;33m=\u001b[0m \u001b[1;33m[\u001b[0m\u001b[0mcol_desc\u001b[0m\u001b[1;33m[\u001b[0m\u001b[1;36m0\u001b[0m\u001b[1;33m]\u001b[0m \u001b[1;32mfor\u001b[0m \u001b[0mcol_desc\u001b[0m \u001b[1;32min\u001b[0m \u001b[0mcursor\u001b[0m\u001b[1;33m.\u001b[0m\u001b[0mdescription\u001b[0m\u001b[1;33m]\u001b[0m\u001b[1;33m\u001b[0m\u001b[1;33m\u001b[0m\u001b[0m\n\u001b[0;32m   1729\u001b[0m \u001b[1;33m\u001b[0m\u001b[0m\n",
      "\u001b[1;32mc:\\users\\dipaktiwari029\\appdata\\local\\programs\\python\\python37\\lib\\site-packages\\pandas\\io\\sql.py\u001b[0m in \u001b[0;36mexecute\u001b[1;34m(self, *args, **kwargs)\u001b[0m\n\u001b[0;32m   1691\u001b[0m \u001b[1;33m\u001b[0m\u001b[0m\n\u001b[0;32m   1692\u001b[0m             \u001b[0mex\u001b[0m \u001b[1;33m=\u001b[0m \u001b[0mDatabaseError\u001b[0m\u001b[1;33m(\u001b[0m\u001b[1;34mf\"Execution failed on sql '{args[0]}': {exc}\"\u001b[0m\u001b[1;33m)\u001b[0m\u001b[1;33m\u001b[0m\u001b[1;33m\u001b[0m\u001b[0m\n\u001b[1;32m-> 1693\u001b[1;33m             \u001b[1;32mraise\u001b[0m \u001b[0mex\u001b[0m \u001b[1;32mfrom\u001b[0m \u001b[0mexc\u001b[0m\u001b[1;33m\u001b[0m\u001b[1;33m\u001b[0m\u001b[0m\n\u001b[0m\u001b[0;32m   1694\u001b[0m \u001b[1;33m\u001b[0m\u001b[0m\n\u001b[0;32m   1695\u001b[0m     \u001b[1;33m@\u001b[0m\u001b[0mstaticmethod\u001b[0m\u001b[1;33m\u001b[0m\u001b[1;33m\u001b[0m\u001b[0m\n",
      "\u001b[1;31mDatabaseError\u001b[0m: Execution failed on sql 'select actors, count no_of_movies from (select actors, directors, dir, count, DENSE_RANK()              OVER (PARTITION BY actors, directors,dir ORDER BY count desc) r from (select a.actor              actors, b.director directors,b.dir dir, count(*) count from (select a.actor,b.director, count(*) movies from (select p.pid actor, m.mid mids              from person p, movie m, m_cast m_c where trim(m_c.pid) = p.pid and m_c.mid = m.mid) a,              (select p.pid director,p.name dir, m.mid mids from person p, movie m, m_director m_d where              m_d.pid = p.pid and m_d.mid = m.mid) b where a.mids = b.mids group by a.actor,             b.director order by count(*) desc)) where r = 1 and trim(dir) = 'Yash Chopra'              order by count desc': incomplete input"
     ]
    }
   ],
   "source": [
    "%%time\n",
    "def grader_8a(q8a):\n",
    "    q8a_results  = pd.read_sql_query(q8a,conn)\n",
    "    print(q8a_results.head(10))\n",
    "    print(q8a_results.shape)\n",
    "    assert (q8a_results.shape == (73408, 3))\n",
    "    \n",
    "query8a = '''select actors, count no_of_movies from (select actors, directors, dir, count, DENSE_RANK() \\\n",
    "             OVER (PARTITION BY actors, directors,dir ORDER BY count desc) r from (select a.actor \\\n",
    "             actors, b.director directors,b.dir dir, count(*) count from (select a.actor,b.director, count(*) movies from (select p.pid actor, m.mid mids \\\n",
    "             from person p, movie m, m_cast m_c where trim(m_c.pid) = p.pid and m_c.mid = m.mid) a, \\\n",
    "             (select p.pid director,p.name dir, m.mid mids from person p, movie m, m_director m_d where \\\n",
    "             m_d.pid = p.pid and m_d.mid = m.mid) b where a.mids = b.mids group by a.actor,\\\n",
    "             b.director order by count(*) desc)) where r = 1 and trim(dir) = 'Yash Chopra' \\\n",
    "             order by count desc'''    \n",
    "\n",
    "\n",
    "grader_8a(query8a)"
   ]
  },
  {
   "cell_type": "code",
   "execution_count": 10,
   "metadata": {},
   "outputs": [
    {
     "name": "stdout",
     "output_type": "stream",
     "text": [
      "       actor   director  movies\n",
      "0  nm0000002  nm0496746       1\n",
      "1  nm0000027  nm0000180       1\n",
      "2  nm0000039  nm0896533       1\n",
      "3  nm0000042  nm0896533       1\n",
      "4  nm0000047  nm0004292       1\n",
      "5  nm0000073  nm0485943       1\n",
      "6  nm0000076  nm0000229       1\n",
      "7  nm0000092  nm0178997       1\n",
      "8  nm0000093  nm0000269       1\n",
      "9  nm0000096  nm0113819       1\n",
      "(73408, 3)\n",
      "Wall time: 928 ms\n"
     ]
    }
   ],
   "source": [
    "%%time\n",
    "def grader_8a(q8a):\n",
    "    q8a_results  = pd.read_sql_query(q8a,conn)\n",
    "    print(q8a_results.head(10))\n",
    "    print(q8a_results.shape)\n",
    "    assert (q8a_results.shape == (73408, 3))\n",
    "    \n",
    "query8a = '''select a.actor,b.director, count(*) movies from (select p.pid actor, m.mid mids \\\n",
    "             from person p, movie m, m_cast m_c where trim(m_c.pid) = p.pid and m_c.mid = m.mid) a, \\\n",
    "             (select p.pid director, m.mid mids from person p, movie m, m_director m_d where \\\n",
    "             m_d.pid = p.pid and m_d.mid = m.mid) b where a.mids = b.mids group by a.actor,\\\n",
    "             b.director'''    \n",
    "\n",
    "\n",
    "grader_8a(query8a)"
   ]
  },
  {
   "cell_type": "code",
   "execution_count": 23,
   "metadata": {},
   "outputs": [
    {
     "name": "stdout",
     "output_type": "stream",
     "text": [
      "           A          B             C  movies\n",
      "0  nm0707271  nm0007181   Yash Chopra      11\n",
      "1  nm0471443  nm0007181   Yash Chopra      10\n",
      "2  nm0407002  nm0007181   Yash Chopra       9\n",
      "3  nm0025630  nm0007181   Yash Chopra       8\n",
      "4  nm0534501  nm0007181   Yash Chopra       8\n",
      "5  nm0004434  nm0007181   Yash Chopra       7\n",
      "6  nm0451600  nm0007181   Yash Chopra       7\n",
      "7  nm0000821  nm0007181   Yash Chopra       6\n",
      "8  nm0347901  nm0007181   Yash Chopra       5\n",
      "9  nm0716851  nm0007181   Yash Chopra       5\n",
      "(430, 4)\n",
      "Wall time: 1.44 s\n"
     ]
    }
   ],
   "source": [
    "%%time\n",
    "def grader_8a(q8a):\n",
    "    q8a_results  = pd.read_sql_query(q8a,conn)\n",
    "    print(q8a_results.head(10))\n",
    "    print(q8a_results.shape)\n",
    "    #assert (q8a_results.shape == (73408, 3))\n",
    "    \n",
    "query8a = '''select A,B,C,movies from (select A,B,C,movies, DENSE_RANK() \\\n",
    "             OVER (PARTITION BY A, B,C ORDER BY movies desc) r from (select a.actor A ,b.director B ,b.dir C, count(*) movies from (select p.pid actor, m.mid mids \\\n",
    "             from person p, movie m, m_cast m_c where trim(m_c.pid) = p.pid and m_c.mid = m.mid) a, \\\n",
    "             (select p.pid director,p.name dir, m.mid mids from person p, movie m, m_director m_d where \\\n",
    "             m_d.pid = p.pid and m_d.mid = m.mid) b where a.mids = b.mids group by a.actor,\\\n",
    "             b.director)) where r = 1 and trim(C) = 'Yash Chopra' \\\n",
    "             order by movies desc'''    \n",
    "\n",
    "\n",
    "grader_8a(query8a)"
   ]
  },
  {
   "cell_type": "code",
   "execution_count": 22,
   "metadata": {},
   "outputs": [
    {
     "name": "stdout",
     "output_type": "stream",
     "text": [
      "         PID\n",
      "0  nm0007181\n",
      "(1, 1)\n",
      "Wall time: 18 ms\n"
     ]
    }
   ],
   "source": [
    "%%time\n",
    "def grader_8a(q8a):\n",
    "    q8a_results  = pd.read_sql_query(q8a,conn)\n",
    "    print(q8a_results.head(10))\n",
    "    print(q8a_results.shape)\n",
    "    #assert (q8a_results.shape == (73408, 3))\n",
    "    \n",
    "query8a = '''select pid from person where trim(name) = 'Yash Chopra' '''    \n",
    "\n",
    "\n",
    "grader_8a(query8a)"
   ]
  },
  {
   "cell_type": "code",
   "execution_count": 2,
   "metadata": {},
   "outputs": [
    {
     "name": "stdout",
     "output_type": "stream",
     "text": [
      "              Actors  movies\n",
      "0        Jagdish Raj      11\n",
      "1   Manmohan Krishna      10\n",
      "2           Iftekhar       9\n",
      "3        Vikas Anand       8\n",
      "4         Madan Puri       8\n",
      "5        Anupam Kher       7\n",
      "6      Shashi Kapoor       7\n",
      "7   Amitabh Bachchan       6\n",
      "8     Waheeda Rehman       5\n",
      "9      Rakhee Gulzar       5\n",
      "(430, 2)\n"
     ]
    },
    {
     "ename": "AssertionError",
     "evalue": "",
     "output_type": "error",
     "traceback": [
      "\u001b[1;31m---------------------------------------------------------------------------\u001b[0m",
      "\u001b[1;31mAssertionError\u001b[0m                            Traceback (most recent call last)",
      "\u001b[1;32m<timed exec>\u001b[0m in \u001b[0;36m<module>\u001b[1;34m\u001b[0m\n",
      "\u001b[1;32m<timed exec>\u001b[0m in \u001b[0;36mgrader_8a\u001b[1;34m(q8a)\u001b[0m\n",
      "\u001b[1;31mAssertionError\u001b[0m: "
     ]
    }
   ],
   "source": [
    "%%time\n",
    "def grader_8a(q8a):\n",
    "    q8a_results  = pd.read_sql_query(q8a,conn)\n",
    "    print(q8a_results.head(10))\n",
    "    print(q8a_results.shape)\n",
    "    assert (q8a_results.shape == (73408, 3))\n",
    "    \n",
    "query8a = '''select p.name Actors , movies from (select A,B,movies from (select A,B,movies, \\\n",
    "             DENSE_RANK() OVER (PARTITION BY A, B ORDER BY movies desc) r from \\\n",
    "             (select a.actor A,b.director B, count(*) movies from (select p.pid actor, m.mid mids \\\n",
    "             from person p, movie m, m_cast m_c where trim(m_c.pid) = p.pid and m_c.mid = m.mid) a, \\\n",
    "             (select p.pid director, m.mid mids from person p, movie m, m_director m_d where \\\n",
    "             m_d.pid = p.pid and m_d.mid = m.mid) b where a.mids = b.mids group by a.actor,\\\n",
    "             b.director order by count(*) desc)) where r = 1 and trim(B) = 'nm0007181' \\\n",
    "             order by movies desc) d, person p where trim(A) =p.pid'''    \n",
    "\n",
    "\n",
    "grader_8a(query8a)"
   ]
  },
  {
   "cell_type": "code",
   "execution_count": null,
   "metadata": {},
   "outputs": [],
   "source": [
    "%%time\n",
    "def grader_8a(q8a):\n",
    "    q8a_results  = pd.read_sql_query(q8a,conn)\n",
    "    print(q8a_results.head(10))\n",
    "    print(q8a_results.shape)\n",
    "    assert (q8a_results.shape == (73408, 3))\n",
    "    \n",
    "query8a = '''select p.name Actors , movies from (select A,B,movies from (select A,B,movies, \\\n",
    "             DENSE_RANK() OVER (PARTITION BY A, B ORDER BY movies desc) r from \\\n",
    "             (select a.actor A,b.director B, count(*) movies from (select p.pid actor, m.mid mids \\\n",
    "             from person p, movie m, m_cast m_c where trim(m_c.pid) = p.pid and m_c.mid = m.mid) a, \\\n",
    "             (select p.pid director, m.mid mids from person p, movie m, m_director m_d where \\\n",
    "             m_d.pid = p.pid and m_d.mid = m.mid) b where a.mids = b.mids group by a.actor,\\\n",
    "             b.director order by count(*) desc)) where r = 1 and trim(B) = (select pid from person \\\n",
    "             where trim(name)  = 'Yash Chopra') \\\n",
    "             order by movies desc) d, person p where trim(A) =p.pid'''    \n",
    "\n",
    "\n",
    "grader_8a(query8a)"
   ]
  },
  {
   "cell_type": "code",
   "execution_count": 4,
   "metadata": {},
   "outputs": [
    {
     "name": "stdout",
     "output_type": "stream",
     "text": [
      "         PID\n",
      "0  nm0007181\n",
      "(1, 1)\n"
     ]
    },
    {
     "ename": "AssertionError",
     "evalue": "",
     "output_type": "error",
     "traceback": [
      "\u001b[1;31m---------------------------------------------------------------------------\u001b[0m",
      "\u001b[1;31mAssertionError\u001b[0m                            Traceback (most recent call last)",
      "\u001b[1;32m<timed exec>\u001b[0m in \u001b[0;36m<module>\u001b[1;34m\u001b[0m\n",
      "\u001b[1;32m<timed exec>\u001b[0m in \u001b[0;36mgrader_8a\u001b[1;34m(q8a)\u001b[0m\n",
      "\u001b[1;31mAssertionError\u001b[0m: "
     ]
    }
   ],
   "source": [
    "%%time\n",
    "def grader_8a(q8a):\n",
    "    q8a_results  = pd.read_sql_query(q8a,conn)\n",
    "    print(q8a_results.head(10))\n",
    "    print(q8a_results.shape)\n",
    "    assert (q8a_results.shape == (73408, 3))\n",
    "    \n",
    "query8a = '''select pid  from person where trim(name) = 'Yash Chopra' '''    \n",
    "\n",
    "\n",
    "grader_8a(query8a)"
   ]
  },
  {
   "cell_type": "code",
   "execution_count": 5,
   "metadata": {},
   "outputs": [
    {
     "name": "stdout",
     "output_type": "stream",
     "text": [
      "     act_pid    dir_pid  movies\n",
      "0  nm0000821  nm0007181       6\n",
      "1  nm0002043  nm0007181       1\n",
      "2  nm0004109  nm0007181       2\n",
      "3  nm0004334  nm0007181       1\n",
      "4  nm0004429  nm0007181       1\n",
      "5  nm0004434  nm0007181       7\n",
      "6  nm0004435  nm0007181       3\n",
      "7  nm0004437  nm0007181       2\n",
      "8  nm0004487  nm0007181       2\n",
      "9  nm0004564  nm0007181       4\n",
      "(430, 3)\n"
     ]
    },
    {
     "ename": "AssertionError",
     "evalue": "",
     "output_type": "error",
     "traceback": [
      "\u001b[1;31m---------------------------------------------------------------------------\u001b[0m",
      "\u001b[1;31mAssertionError\u001b[0m                            Traceback (most recent call last)",
      "\u001b[1;32m<timed exec>\u001b[0m in \u001b[0;36m<module>\u001b[1;34m\u001b[0m\n",
      "\u001b[1;32m<timed exec>\u001b[0m in \u001b[0;36mgrader_8a\u001b[1;34m(q8a)\u001b[0m\n",
      "\u001b[1;31mAssertionError\u001b[0m: "
     ]
    }
   ],
   "source": [
    "%%time\n",
    "def grader_8a(q8a):\n",
    "    q8a_results  = pd.read_sql_query(q8a,conn)\n",
    "    print(q8a_results.head(10))\n",
    "    print(q8a_results.shape)\n",
    "    assert (q8a_results.shape == (73408, 3))\n",
    "    \n",
    "query8a = '''select act_pid ,dir_pid, movies from (select act_pid ,dir_pid, movies, dense_rank() over(partition by act_pid ,dir_pid order by movies) r from \\\n",
    "             (select a.actor act_pid ,b.director dir_pid , count(*) movies from (select p.pid actor, m.mid mids \\\n",
    "             from person p, movie m, m_cast m_c where trim(m_c.pid) = p.pid and m_c.mid = m.mid) a, \\\n",
    "             (select p.pid director, m.mid mids from person p, movie m, m_director m_d where \\\n",
    "             m_d.pid = p.pid and m_d.mid = m.mid) b where a.mids = b.mids group by a.actor,\\\n",
    "             b.director)) where r = 1 and trim(dir_pid) ='nm0007181' '''    \n",
    "\n",
    "\n",
    "grader_8a(query8a)"
   ]
  },
  {
   "cell_type": "code",
   "execution_count": 7,
   "metadata": {},
   "outputs": [
    {
     "name": "stdout",
     "output_type": "stream",
     "text": [
      "     act_pid    dir_pid  movies\n",
      "0  nm0000002  nm0496746       1\n",
      "1  nm0000027  nm0000180       1\n",
      "2  nm0000039  nm0896533       1\n",
      "3  nm0000042  nm0896533       1\n",
      "4  nm0000047  nm0004292       1\n",
      "5  nm0000073  nm0485943       1\n",
      "6  nm0000076  nm0000229       1\n",
      "7  nm0000092  nm0178997       1\n",
      "8  nm0000093  nm0000269       1\n",
      "9  nm0000096  nm0113819       1\n",
      "(73408, 3)\n",
      "Wall time: 1.34 s\n"
     ]
    }
   ],
   "source": [
    "%%time\n",
    "def grader_8a(q8a):\n",
    "    q8a_results  = pd.read_sql_query(q8a,conn)\n",
    "    print(q8a_results.head(10))\n",
    "    print(q8a_results.shape)\n",
    "    #assert (q8a_results.shape == (73408, 3))\n",
    "    \n",
    "query8a = '''select act_pid ,dir_pid, movies from (select act_pid ,dir_pid, movies, dense_rank() over(partition by act_pid ,dir_pid order by movies) r from \\\n",
    "             (select a.actor act_pid ,b.director dir_pid , count(*) movies from (select p.pid actor, m.mid mids \\\n",
    "             from person p, movie m, m_cast m_c where trim(m_c.pid) = p.pid and m_c.mid = m.mid) a, \\\n",
    "             (select p.pid director, m.mid mids from person p, movie m, m_director m_d where \\\n",
    "             m_d.pid = p.pid and m_d.mid = m.mid) b where a.mids = b.mids group by a.actor,\\\n",
    "             b.director)) where r = 1 '''    \n",
    "\n",
    "\n",
    "grader_8a(query8a)"
   ]
  },
  {
   "cell_type": "code",
   "execution_count": 24,
   "metadata": {},
   "outputs": [
    {
     "name": "stdout",
     "output_type": "stream",
     "text": [
      "              actors  no_of_movies\n",
      "0        Jagdish Raj            11\n",
      "1   Manmohan Krishna            10\n",
      "2           Iftekhar             9\n",
      "3      Shashi Kapoor             7\n",
      "4      Rakhee Gulzar             5\n",
      "5     Waheeda Rehman             5\n",
      "6     Achala Sachdev             4\n",
      "7        Neetu Singh             4\n",
      "8           Ravikant             4\n",
      "9      Leela Chitnis             3\n",
      "(237, 2)\n"
     ]
    }
   ],
   "source": [
    "def grader_8a(q8a):\n",
    "    q8a_results  = pd.read_sql_query(q8a,conn)\n",
    "    print(q8a_results.head(10))\n",
    "    print(q8a_results.shape)\n",
    "    #assert (q8_results.shape == (245, 2))\n",
    "    \n",
    "query8a = '''select distinct(actors), count no_of_movies from (select actors, directors,count, DENSE_RANK() \\\n",
    "             OVER (PARTITION BY actors ORDER BY count desc) r from (select a.actor \\\n",
    "             actors, b.director directors, count(*) count from (select p.name actor, m.mid mids \\\n",
    "             from person p, movie m, m_cast m_c where trim(m_c.pid) = p.pid and m_c.mid = m.mid) \\\n",
    "             a, (select p.name director, m.mid mids from person p, movie m, m_director m_d \\\n",
    "             where m_d.pid = p.pid and m_d.mid = m.mid) b where a.mids = b.mids group by a.actor, \\\n",
    "             b.director order by count(*) desc)) where r = 1 and trim(directors) = 'Yash Chopra' \\\n",
    "             order by count desc  '''    \n",
    "\n",
    "\n",
    "grader_8a(query8a)"
   ]
  },
  {
   "cell_type": "code",
   "execution_count": 18,
   "metadata": {},
   "outputs": [
    {
     "name": "stdout",
     "output_type": "stream",
     "text": [
      "              actors                  directors  no_of_movies  r\n",
      "600        Abu Baker              Devendra Goel             1  1\n",
      "601        Abu Baker                  Guru Dutt             1  1\n",
      "602        Abu Baker       Hrishikesh Mukherjee             1  1\n",
      "603       Abu Siwani                M.S. Sathyu             1  1\n",
      "604        Abu Zayan                   Amit Rai             1  1\n",
      "605    Abuzar Sudhan                  Aleya Sen             1  1\n",
      "606           Acchui                 Sonam Nair             1  1\n",
      "607       Ace Bhatti            Gurinder Chadha             1  1\n",
      "608      Achala Bose                Ashu Trikha             1  1\n",
      "609     Achala Nagar                B.R. Chopra             1  1\n",
      "610     Achala Nagar              J. Om Prakash             1  1\n",
      "611   Achala Sachdev                Yash Chopra             4  1\n",
      "612          Achchan               Sultan Ahmed             1  1\n",
      "613            Achee             Khyentse Norbu             1  1\n",
      "614       Achin Jain             Anurag Kashyap             1  1\n",
      "615      Achint Kaur   Ananth Narayan Mahadevan             2  1\n",
      "616    Achla Sachdev               Arjun Sablok             1  1\n",
      "617    Achla Sachdev             Ganesh Acharya             1  1\n",
      "618    Achla Sachdev          Madhur Bhandarkar             1  1\n",
      "619    Achla Sachdev                Prakash Jha             1  1\n",
      "(45614, 4)\n"
     ]
    }
   ],
   "source": [
    "def grader_8a(q8a):\n",
    "    q8a_results  = pd.read_sql_query(q8a,conn)\n",
    "    #print(q8a_results.head(10))\n",
    "    print(q8a_results[600:620])\n",
    "    print(q8a_results.shape)\n",
    "    #assert (q8_results.shape == (245, 2))\n",
    "    \n",
    "query8a = '''select actors, directors, count no_of_movies, r from (select actors, directors,count, DENSE_RANK() \\\n",
    "             OVER (PARTITION BY actors ORDER BY count desc) r from (select a.actor \\\n",
    "             actors, b.director directors, count(*) count from (select p.name actor, m.mid mids \\\n",
    "             from person p, movie m, m_cast m_c where trim(m_c.pid) = p.pid and m_c.mid = m.mid) \\\n",
    "             a, (select p.name director, m.mid mids from person p, movie m, m_director m_d \\\n",
    "             where m_d.pid = p.pid and m_d.mid = m.mid) b where a.mids = b.mids group by a.actor, \\\n",
    "             b.director order by count(*) desc)) where r = 1  '''    \n",
    "\n",
    "\n",
    "grader_8a(query8a)"
   ]
  },
  {
   "cell_type": "code",
   "execution_count": 29,
   "metadata": {},
   "outputs": [
    {
     "name": "stdout",
     "output_type": "stream",
     "text": [
      "     act_pid    dir_pid  movies\n",
      "0  nm0007147  nm0007181       1\n",
      "1  nm0015296  nm0007181       1\n",
      "2  nm0019463  nm0007181       1\n",
      "3  nm0030120  nm0007181       1\n",
      "4  nm0044343  nm0007181       1\n",
      "5  nm0046230  nm0007181       1\n",
      "6  nm0049403  nm0007181       1\n",
      "7  nm0052453  nm0007181       1\n",
      "8  nm0080385  nm0007181       1\n",
      "9  nm0081070  nm0007181       1\n",
      "(257, 3)\n",
      "Wall time: 1.1 s\n"
     ]
    }
   ],
   "source": [
    "%%time\n",
    "def grader_8a(q8a):\n",
    "    q8a_results  = pd.read_sql_query(q8a,conn)\n",
    "    print(q8a_results.head(10))\n",
    "    print(q8a_results.shape)\n",
    "    #assert (q8a_results.shape == (73408, 3))\n",
    "    \n",
    "query8a = '''select distinct(act_pid) ,dir_pid, movies from (select act_pid ,dir_pid, movies, row_number() \\\n",
    "             over(partition by act_pid order by movies) r from \\\n",
    "             (select a.actor act_pid ,b.director dir_pid , count(*) movies from (select p.pid actor, m.mid mids \\\n",
    "             from person p, movie m, m_cast m_c where trim(m_c.pid) = p.pid and m_c.mid = m.mid) a, \\\n",
    "             (select p.pid director, m.mid mids from person p, movie m, m_director m_d where \\\n",
    "             m_d.pid = p.pid and m_d.mid = m.mid) b where a.mids = b.mids group by a.actor,\\\n",
    "             b.director)) where r = 1 and trim(dir_pid) = 'nm0007181'  '''    \n",
    "\n",
    "\n",
    "grader_8a(query8a)"
   ]
  },
  {
   "cell_type": "code",
   "execution_count": 26,
   "metadata": {},
   "outputs": [
    {
     "name": "stdout",
     "output_type": "stream",
     "text": [
      "       actor   director  movies\n",
      "0  nm0000002  nm0496746       1\n",
      "1  nm0000027  nm0000180       1\n",
      "2  nm0000039  nm0896533       1\n",
      "3  nm0000042  nm0896533       1\n",
      "4  nm0000047  nm0004292       1\n",
      "5  nm0000073  nm0485943       1\n",
      "6  nm0000076  nm0000229       1\n",
      "7  nm0000092  nm0178997       1\n",
      "8  nm0000093  nm0000269       1\n",
      "9  nm0000096  nm0113819       1\n",
      "(73408, 3)\n"
     ]
    },
    {
     "ename": "NameError",
     "evalue": "name 'q8_results' is not defined",
     "output_type": "error",
     "traceback": [
      "\u001b[1;31m---------------------------------------------------------------------------\u001b[0m",
      "\u001b[1;31mNameError\u001b[0m                                 Traceback (most recent call last)",
      "\u001b[1;32m<timed exec>\u001b[0m in \u001b[0;36m<module>\u001b[1;34m\u001b[0m\n",
      "\u001b[1;32m<timed exec>\u001b[0m in \u001b[0;36mgrader_8a\u001b[1;34m(q8a)\u001b[0m\n",
      "\u001b[1;31mNameError\u001b[0m: name 'q8_results' is not defined"
     ]
    }
   ],
   "source": [
    "%%time\n",
    "def grader_8a(q8a):\n",
    "    q8a_results  = pd.read_sql_query(q8a,conn)\n",
    "    print(q8a_results.head(10))\n",
    "    print(q8a_results.shape)\n",
    "    #assert (q8a_results.shape == (73408, 3))\n",
    "    assert (q8_results.shape == (245, 2))\n",
    "    \n",
    "query8a = '''select a.actor,b.director, count(*) movies from (select p.pid actor, m.mid mids \\\n",
    "             from person p, movie m, m_cast m_c where trim(m_c.pid) = p.pid and m_c.mid = m.mid) a, \\\n",
    "             (select p.pid director, m.mid mids from person p, movie m, m_director m_d where \\\n",
    "             m_d.pid = p.pid and m_d.mid = m.mid) b where a.mids = b.mids group by a.actor,\\\n",
    "             b.director'''    \n",
    "\n",
    "\n",
    "grader_8a(query8a)"
   ]
  },
  {
   "cell_type": "code",
   "execution_count": null,
   "metadata": {},
   "outputs": [],
   "source": [
    "%%time\n",
    "def grader_8a(q8a):\n",
    "    q8a_results  = pd.read_sql_query(q8a,conn)\n",
    "    print(q8a_results.head(10))\n",
    "    print(q8a_results.shape)\n",
    "    #assert (q8a_results.shape == (73408, 3))\n",
    "    assert (q8_results.shape == (245, 2))\n",
    "    \n",
    "query8a = '''select a.actor,b.director, count(*) movies from (select p.pid actor, m.mid mids \\\n",
    "             from (select distinct(pid) from person) p, movie m, m_cast m_c where trim(m_c.pid) = p.pid and m_c.mid = m.mid) a, \\\n",
    "             (select p.pid director, m.mid mids from (select distinct(pid) from person) p, movie m, m_director m_d where \\\n",
    "             m_d.pid = p.pid and m_d.mid = m.mid) b where a.mids = b.mids group by a.actor,\\\n",
    "             b.director'''    \n",
    "\n",
    "\n",
    "grader_8a(query8a)"
   ]
  },
  {
   "cell_type": "code",
   "execution_count": 33,
   "metadata": {},
   "outputs": [
    {
     "name": "stdout",
     "output_type": "stream",
     "text": [
      "     act_pid    dir_pid  movies\n",
      "0  nm0000002  nm0496746       1\n",
      "1  nm0000027  nm0000180       1\n",
      "2  nm0000039  nm0896533       1\n",
      "3  nm0000042  nm0896533       1\n",
      "4  nm0000047  nm0004292       1\n",
      "5  nm0000073  nm0485943       1\n",
      "6  nm0000076  nm0000229       1\n",
      "7  nm0000092  nm0178997       1\n",
      "8  nm0000093  nm0000269       1\n",
      "9  nm0000096  nm0113819       1\n",
      "(32127, 3)\n"
     ]
    },
    {
     "ename": "AssertionError",
     "evalue": "",
     "output_type": "error",
     "traceback": [
      "\u001b[1;31m---------------------------------------------------------------------------\u001b[0m",
      "\u001b[1;31mAssertionError\u001b[0m                            Traceback (most recent call last)",
      "\u001b[1;32m<timed exec>\u001b[0m in \u001b[0;36m<module>\u001b[1;34m\u001b[0m\n",
      "\u001b[1;32m<timed exec>\u001b[0m in \u001b[0;36mgrader_8a\u001b[1;34m(q8a)\u001b[0m\n",
      "\u001b[1;31mAssertionError\u001b[0m: "
     ]
    }
   ],
   "source": [
    "%%time\n",
    "def grader_8a(q8a):\n",
    "    q8a_results  = pd.read_sql_query(q8a,conn)\n",
    "    print(q8a_results.head(10))\n",
    "    print(q8a_results.shape)\n",
    "    assert (q8a_results.shape == (73408, 3))\n",
    "    \n",
    "query8a = '''select act_pid ,dir_pid, movies from (select act_pid ,dir_pid, movies, row_number() \\\n",
    "             over(partition by act_pid order by movies) r from \\\n",
    "             (select a.actor act_pid ,b.director dir_pid, count(*) movies from (select p.pid actor, m.mid mids \\\n",
    "             from person p, movie m, m_cast m_c where trim(m_c.pid) = p.pid and m_c.mid = m.mid) a, \\\n",
    "             (select p.pid director, m.mid mids from person p, movie m, m_director m_d where \\\n",
    "             m_d.pid = p.pid and m_d.mid = m.mid) b where a.mids = b.mids group by a.actor,\\\n",
    "             b.director)) where r = 1 '''    \n",
    "\n",
    "\n",
    "grader_8a(query8a)"
   ]
  },
  {
   "cell_type": "code",
   "execution_count": 49,
   "metadata": {},
   "outputs": [
    {
     "name": "stdout",
     "output_type": "stream",
     "text": [
      "              actors  no_of_movies\n",
      "0        Jagdish Raj            11\n",
      "1   Manmohan Krishna            10\n",
      "2           Iftekhar             9\n",
      "3      Shashi Kapoor             7\n",
      "4     Waheeda Rehman             5\n",
      "5      Rakhee Gulzar             5\n",
      "6     Achala Sachdev             4\n",
      "7        Neetu Singh             4\n",
      "8           Ravikant             4\n",
      "9    Parikshat Sahni             3\n",
      "(245, 2)\n",
      "Wall time: 1.24 s\n"
     ]
    }
   ],
   "source": [
    "%%time\n",
    "def grader_8a(q8a):\n",
    "    q8a_results  = pd.read_sql_query(q8a,conn)\n",
    "    print(q8a_results.head(10))\n",
    "    print(q8a_results.shape)\n",
    "    #assert (q8a_results.shape == (73408, 3))\n",
    "    \n",
    "query8a = '''select p.name actors, a.movies no_of_movies from  (select act_pid ,dir_pid,directors, \\\n",
    "             movies from (select act_pid ,dir_pid,directors, \\\n",
    "             movies, dense_rank() over(partition by act_pid order by movies desc) r from \\\n",
    "             (select a.actor act_pid ,b.director dir_pid ,directors, count(*) movies from \\\n",
    "             (select p.pid actor, m.mid mids from person p, movie m, m_cast m_c where \\\n",
    "             trim(m_c.pid) = p.pid and m_c.mid = m.mid) a, (select p.pid director, p.name \\\n",
    "             directors, m.mid mids from person p, movie m, m_director m_d where \\\n",
    "             m_d.pid = p.pid and m_d.mid = m.mid) b where a.mids = b.mids group by a.actor,\\\n",
    "             b.director)) where r = 1 and trim(directors) = 'Yash Chopra') a , person p where\\\n",
    "             a.act_pid = p.pid order by a.movies desc '''    \n",
    "\n",
    "\n",
    "grader_8a(query8a)"
   ]
  },
  {
   "cell_type": "code",
   "execution_count": null,
   "metadata": {},
   "outputs": [],
   "source": []
  }
 ],
 "metadata": {
  "kernelspec": {
   "display_name": "Python 3",
   "language": "python",
   "name": "python3"
  },
  "language_info": {
   "codemirror_mode": {
    "name": "ipython",
    "version": 3
   },
   "file_extension": ".py",
   "mimetype": "text/x-python",
   "name": "python",
   "nbconvert_exporter": "python",
   "pygments_lexer": "ipython3",
   "version": "3.7.5"
  }
 },
 "nbformat": 4,
 "nbformat_minor": 4
}
